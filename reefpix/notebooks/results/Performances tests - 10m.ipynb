{
 "cells": [
  {
   "cell_type": "code",
   "execution_count": 1,
   "metadata": {},
   "outputs": [],
   "source": [
    "%load_ext autoreload\n",
    "%autoreload 2"
   ]
  },
  {
   "cell_type": "code",
   "execution_count": 2,
   "metadata": {},
   "outputs": [
    {
     "name": "stderr",
     "output_type": "stream",
     "text": [
      "C:\\Users\\tnguyen001\\AppData\\Roaming\\Python\\Python38\\site-packages\\pandas\\core\\computation\\expressions.py:20: UserWarning: Pandas requires version '2.7.3' or newer of 'numexpr' (version '2.7.1' currently installed).\n",
      "  from pandas.core.computation.check import NUMEXPR_INSTALLED\n"
     ]
    }
   ],
   "source": [
    "import numpy as np\n",
    "import pandas as pd\n",
    "import importlib\n",
    "import matplotlib.pyplot as plt\n",
    "import matplotlib.image as mpimg\n",
    "from matplotlib import cm\n",
    "from matplotlib.colors import ListedColormap, LinearSegmentedColormap\n",
    "from skimage.segmentation import mark_boundaries\n",
    "import itertools\n",
    "import random\n",
    "import time\n",
    "import pickle"
   ]
  },
  {
   "cell_type": "code",
   "execution_count": 46,
   "metadata": {},
   "outputs": [],
   "source": [
    "from coral_mapper_functions import score_map\n",
    "from coral_mapper import coral_map"
   ]
  },
  {
   "cell_type": "markdown",
   "metadata": {},
   "source": [
    "### Loading the connectivity table for the post-processing"
   ]
  },
  {
   "cell_type": "code",
   "execution_count": 55,
   "metadata": {},
   "outputs": [],
   "source": [
    "connectivity = pd.read_pickle('connectivity_table_maupiti')"
   ]
  },
  {
   "cell_type": "markdown",
   "metadata": {},
   "source": [
    "# Loading the maps"
   ]
  },
  {
   "cell_type": "code",
   "execution_count": null,
   "metadata": {},
   "outputs": [],
   "source": [
    "augmented[5:-5, 5:-5] = band\n",
    "\n",
    "    augmented[:5, 5:-5] = np.flipud(band[:5, :])\n",
    "    augmented[-5:, 5:-5] = np.flipud(band[-5:, :])\n",
    "    augmented[5:-5, :5] = np.fliplr(band[:, :5])\n",
    "    augmented[5:-5, -5:] = np.fliplr(band[:, -5:])\n",
    "\n",
    "    augmented[:5, :5] = np.flip(band[:5, :5])\n",
    "    augmented[-5:, :5] = np.flip(band[-5:, :5])\n",
    "    augmented[:5, -5:] = np.flip(band[:5, -5:])\n",
    "    augmented[-5:, -5:] = np.flip(band[-5:, -5:])"
   ]
  },
  {
   "cell_type": "code",
   "execution_count": 47,
   "metadata": {},
   "outputs": [],
   "source": [
    "img_rugo_zones = np.load('../v2/data/pleiades_map_types_10m.npy')\n",
    "pleiades_img = np.load('../v2/data/pleiades_ortho_10m.npy')"
   ]
  },
  {
   "cell_type": "code",
   "execution_count": 56,
   "metadata": {},
   "outputs": [],
   "source": [
    "img_blue = (pleiades_img[1]-np.mean(pleiades_img[1]))/np.std(pleiades_img[1])\n",
    "img_green = (pleiades_img[2]-np.mean(pleiades_img[2]))/np.std(pleiades_img[2])\n",
    "img_red = (pleiades_img[3]-np.mean(pleiades_img[3]))/np.std(pleiades_img[3])\n",
    "img_nir = (pleiades_img[0]-np.mean(pleiades_img[0]))/np.std(pleiades_img[0])"
   ]
  },
  {
   "cell_type": "code",
   "execution_count": 57,
   "metadata": {},
   "outputs": [],
   "source": [
    "map_test = coral_map([img_blue,img_green,img_red,img_nir], map_img=img_rugo_zones, size_img=3)"
   ]
  },
  {
   "cell_type": "code",
   "execution_count": 58,
   "metadata": {},
   "outputs": [],
   "source": [
    "classified_pixels = np.where(img_rugo_zones>0)"
   ]
  },
  {
   "cell_type": "code",
   "execution_count": 59,
   "metadata": {},
   "outputs": [],
   "source": [
    "random.seed(0)\n",
    "size_subset = 250000\n",
    "index_combination = list(np.array(classified_pixels).T)\n",
    "random_train_test = random.sample(index_combination,size_subset)\n",
    "training_set_indexes_pb = random_train_test[:size_subset//5]\n",
    "testing_set_indexes_pb = random_train_test[size_subset//5:]"
   ]
  },
  {
   "cell_type": "code",
   "execution_count": 60,
   "metadata": {},
   "outputs": [
    {
     "name": "stderr",
     "output_type": "stream",
     "text": [
      "C:\\Users\\tnguyen001\\Documents\\GitHub\\coral_mapping\\clean\\coral_mapper.py:106: UserWarning: The training set does not contain all the classes. Errors may occur.\n",
      "  warnings.warn(\"The training set does not contain all the classes. Errors may occur.\")\n"
     ]
    },
    {
     "name": "stdout",
     "output_type": "stream",
     "text": [
      "Creating the labels for each superpixel...\n",
      "Creating the features for each superpixel...\n",
      "Training the Random Forest classifier...\n",
      "Validation accuracy: 0.970405\n",
      "Wall time: 1min 31s\n"
     ]
    }
   ],
   "source": [
    "%%time\n",
    "map_test.train_pixelbased_rf(training_set_indexes_pb, testing_set_indexes_pb, undersampling=0)"
   ]
  },
  {
   "cell_type": "code",
   "execution_count": 61,
   "metadata": {},
   "outputs": [
    {
     "name": "stdout",
     "output_type": "stream",
     "text": [
      "Wall time: 12.4 s\n"
     ]
    }
   ],
   "source": [
    "%%time\n",
    "map_test.predict_map_pixelbased_rf()"
   ]
  },
  {
   "cell_type": "code",
   "execution_count": 62,
   "metadata": {},
   "outputs": [
    {
     "name": "stdout",
     "output_type": "stream",
     "text": [
      "0.9095832802344845\n"
     ]
    }
   ],
   "source": [
    "predicted_map_pixelbased_rf_classes = np.argmax(map_test.predicted_map_pb_rf,axis=2)+1\n",
    "score_pb = score_map(img_rugo_zones,predicted_map_pixelbased_rf_classes,[0,4,5], map_test.segments, training_set_indexes_pb, [], size_superpixel=3)\n",
    "print(score_pb)"
   ]
  },
  {
   "cell_type": "code",
   "execution_count": 52,
   "metadata": {},
   "outputs": [
    {
     "name": "stdout",
     "output_type": "stream",
     "text": [
      "0.9093921243787435\n"
     ]
    }
   ],
   "source": [
    "predicted_map_pixelbased_rf_classes = np.argmax(map_test.predicted_map_pb_rf,axis=2)+1\n",
    "score_pb = score_map(img_rugo_zones,predicted_map_pixelbased_rf_classes,[0,4,5], map_test.segments, training_set_indexes_pb, [], size_superpixel=3)\n",
    "print(score_pb)"
   ]
  },
  {
   "cell_type": "code",
   "execution_count": 51,
   "metadata": {},
   "outputs": [
    {
     "data": {
      "image/png": "[encoded data removed]",
      "text/plain": [
       "<Figure size 432x432 with 1 Axes>"
      ]
     },
     "metadata": {
      "needs_background": "light"
     },
     "output_type": "display_data"
    }
   ],
   "source": [
    "plt.figure(figsize=(6,6))\n",
    "plt.imshow(predicted_map_pixelbased_rf_classes, interpolation='None', cmap='tab20c_r')\n",
    "plt.show()"
   ]
  },
  {
   "cell_type": "code",
   "execution_count": 28,
   "metadata": {},
   "outputs": [],
   "source": [
    "map_test.segmentation(use_pb_pred=True, scale=1.5, sigma=1., min_size=20)"
   ]
  },
  {
   "cell_type": "code",
   "execution_count": 29,
   "metadata": {},
   "outputs": [],
   "source": [
    "map_test.smooth_pb_rf()"
   ]
  },
  {
   "cell_type": "code",
   "execution_count": 30,
   "metadata": {},
   "outputs": [],
   "source": [
    "map_test.smoothed_map_pb_rf = map_test.smoothed_map_pb_rf+1"
   ]
  },
  {
   "cell_type": "code",
   "execution_count": 31,
   "metadata": {},
   "outputs": [],
   "source": [
    "smooth_map = np.copy(map_test.smoothed_map_pb_rf)"
   ]
  },
  {
   "cell_type": "code",
   "execution_count": 50,
   "metadata": {},
   "outputs": [
    {
     "data": {
      "image/png": "[encoded data removed]",
      "text/plain": [
       "<Figure size 432x432 with 1 Axes>"
      ]
     },
     "metadata": {
      "needs_background": "light"
     },
     "output_type": "display_data"
    }
   ],
   "source": [
    "plt.figure(figsize=(6,6))\n",
    "plt.imshow(smooth_map, interpolation='None', cmap='tab20c_r')\n",
    "plt.show()"
   ]
  },
  {
   "cell_type": "code",
   "execution_count": 33,
   "metadata": {},
   "outputs": [
    {
     "name": "stdout",
     "output_type": "stream",
     "text": [
      "0.8724990442207213\n"
     ]
    }
   ],
   "source": [
    "score_map_smooth = score_map(img_rugo_zones, smooth_map,[0,4,5], map_test.segments, training_set_indexes_pb, [], size_superpixel=3)\n",
    "print(score_map_smooth)"
   ]
  },
  {
   "cell_type": "markdown",
   "metadata": {},
   "source": [
    "# Post processing"
   ]
  },
  {
   "cell_type": "code",
   "execution_count": 34,
   "metadata": {},
   "outputs": [],
   "source": [
    "list_scores_post_processing = []\n",
    "list_thresholds_post_processing = []"
   ]
  },
  {
   "cell_type": "code",
   "execution_count": 35,
   "metadata": {},
   "outputs": [],
   "source": [
    "predicted_map_pixelbased_rf_classes = np.load('data/prediction_pb_10m.npy')\n",
    "smooth_map = np.load('data/smooth_map_10m.npy')"
   ]
  },
  {
   "cell_type": "code",
   "execution_count": 10,
   "metadata": {},
   "outputs": [],
   "source": [
    "import segments_regressor\n",
    "from skimage.segmentation import find_boundaries"
   ]
  },
  {
   "cell_type": "code",
   "execution_count": 11,
   "metadata": {
    "scrolled": true
   },
   "outputs": [
    {
     "ename": "AttributeError",
     "evalue": "'coral_map' object has no attribute 'y_segments_pb_rf_classes'",
     "output_type": "error",
     "traceback": [
      "\u001b[1;31m---------------------------------------------------------------------------\u001b[0m",
      "\u001b[1;31mAttributeError\u001b[0m                            Traceback (most recent call last)",
      "\u001b[1;32m<ipython-input-11-00d4b93e8e2a>\u001b[0m in \u001b[0;36m<module>\u001b[1;34m\u001b[0m\n\u001b[1;32m----> 1\u001b[1;33m \u001b[0msegments_classes\u001b[0m \u001b[1;33m=\u001b[0m \u001b[0mnp\u001b[0m\u001b[1;33m.\u001b[0m\u001b[0mcopy\u001b[0m\u001b[1;33m(\u001b[0m\u001b[0mmap_test\u001b[0m\u001b[1;33m.\u001b[0m\u001b[0my_segments_pb_rf_classes\u001b[0m\u001b[1;33m)\u001b[0m\u001b[1;33m\u001b[0m\u001b[1;33m\u001b[0m\u001b[0m\n\u001b[0m\u001b[0;32m      2\u001b[0m \u001b[0msegments_classes\u001b[0m\u001b[1;33m\u001b[0m\u001b[1;33m\u001b[0m\u001b[0m\n",
      "\u001b[1;31mAttributeError\u001b[0m: 'coral_map' object has no attribute 'y_segments_pb_rf_classes'"
     ]
    }
   ],
   "source": [
    "segments_classes = np.copy(map_test.y_segments_pb_rf_classes)\n",
    "segments_classes"
   ]
  },
  {
   "cell_type": "code",
   "execution_count": 38,
   "metadata": {},
   "outputs": [],
   "source": [
    "boundaries = find_boundaries(map_test.segments)\n",
    "adjacent_segments,_ = segments_regressor.find_adjacent_segments(map_test.segments, boundaries)"
   ]
  },
  {
   "cell_type": "code",
   "execution_count": 39,
   "metadata": {},
   "outputs": [
    {
     "name": "stdout",
     "output_type": "stream",
     "text": [
      "Wall time: 150 ms\n"
     ]
    }
   ],
   "source": [
    "%%time\n",
    "list_wrong_neighbours = []\n",
    "for i in range(len(adjacent_segments)):\n",
    "    wrong_neighbours = 0\n",
    "    s = adjacent_segments[i]\n",
    "    s_class = segments_classes[i]\n",
    "    if s_class > 0:\n",
    "        s_connectivity = connectivity[s_class]\n",
    "        for j in s:\n",
    "            if segments_classes[j]>0:\n",
    "                if s_connectivity[segments_classes[j]] == 0 :\n",
    "                    wrong_neighbours += 1\n",
    "    list_wrong_neighbours.append(wrong_neighbours/len(s))"
   ]
  },
  {
   "cell_type": "code",
   "execution_count": 40,
   "metadata": {},
   "outputs": [
    {
     "name": "stdout",
     "output_type": "stream",
     "text": [
      "552\n"
     ]
    }
   ],
   "source": [
    "threshold = 0.8\n",
    "nb_wrong_segments=0\n",
    "for i, value in enumerate(list_wrong_neighbours):\n",
    "    if value>0:\n",
    "        #assign the majority of neighbours to this segment\n",
    "        nb_wrong_segments+=1\n",
    "        lst_temp = [segments_classes[j] for j in adjacent_segments[i]]\n",
    "        majority_neighbours = max(set(lst_temp), key=lst_temp.count)\n",
    "        if majority_neighbours/len(lst_temp) > threshold:\n",
    "            segments_classes[i] = majority_neighbours\n",
    "print(nb_wrong_segments)"
   ]
  },
  {
   "cell_type": "code",
   "execution_count": 43,
   "metadata": {},
   "outputs": [],
   "source": [
    "new_map = np.copy(map_test.segments)\n",
    "for i in range(np.max(map_test.segments)+1):\n",
    "    new_map[map_test.segments==i] = segments_classes[i]+1"
   ]
  },
  {
   "cell_type": "code",
   "execution_count": 47,
   "metadata": {},
   "outputs": [
    {
     "data": {
      "text/plain": [
       "0.873900853829489"
      ]
     },
     "execution_count": 47,
     "metadata": {},
     "output_type": "execute_result"
    }
   ],
   "source": [
    "score_pp = score_map(img_rugo_zones,new_map,[0,4,5], map_test.segments, training_set_indexes_pb, [], size_superpixel=3)\n",
    "score_pp"
   ]
  },
  {
   "cell_type": "code",
   "execution_count": 49,
   "metadata": {},
   "outputs": [
    {
     "data": {
      "image/png": "[encoded data removed]",
      "text/plain": [
       "<Figure size 432x432 with 1 Axes>"
      ]
     },
     "metadata": {
      "needs_background": "light"
     },
     "output_type": "display_data"
    }
   ],
   "source": [
    "plt.figure(figsize=(6,6))\n",
    "plt.imshow(new_map, interpolation='None', cmap='tab20c_r')\n",
    "plt.show()"
   ]
  },
  {
   "cell_type": "markdown",
   "metadata": {},
   "source": [
    "# Summary of the performances"
   ]
  },
  {
   "cell_type": "code",
   "execution_count": 56,
   "metadata": {},
   "outputs": [
    {
     "name": "stdout",
     "output_type": "stream",
     "text": [
      "Score of the pixel-based map: 0.9094\n",
      "Score of the smoothed map: 0.8725\n",
      "Score of the post-processed map: 0.8739\n"
     ]
    }
   ],
   "source": [
    "print('Score of the pixel-based map:', np.round(score_pb, 4))\n",
    "print('Score of the smoothed map:', np.round(score_map_smooth,4))\n",
    "print('Score of the post-processed map:', np.round(score_pp,4))"
   ]
  },
  {
   "cell_type": "markdown",
   "metadata": {},
   "source": [
    "# Repeat it 10 times"
   ]
  },
  {
   "cell_type": "code",
   "execution_count": 63,
   "metadata": {},
   "outputs": [
    {
     "name": "stderr",
     "output_type": "stream",
     "text": [
      "C:\\Users\\tnguyen001\\Documents\\GitHub\\coral_mapping\\clean\\coral_mapper.py:106: UserWarning: The training set does not contain all the classes. Errors may occur.\n",
      "  warnings.warn(\"The training set does not contain all the classes. Errors may occur.\")\n"
     ]
    },
    {
     "name": "stdout",
     "output_type": "stream",
     "text": [
      "Creating the labels for each superpixel...\n",
      "Creating the features for each superpixel...\n",
      "Training the Random Forest classifier...\n",
      "Validation accuracy: 0.970625\n"
     ]
    },
    {
     "name": "stderr",
     "output_type": "stream",
     "text": [
      "C:\\Users\\tnguyen001\\Documents\\GitHub\\coral_mapping\\clean\\coral_mapper.py:56: RuntimeWarning: Got image with third dimension of 4. This image will be interpreted as a multichannel 2d image, which may not be intended.\n",
      "  segments = felzenszwalb(img_for_segmentation,*args,**kwargs)\n",
      "C:\\Users\\tnguyen001\\Documents\\GitHub\\coral_mapping\\clean\\coral_mapper.py:106: UserWarning: The training set does not contain all the classes. Errors may occur.\n",
      "  warnings.warn(\"The training set does not contain all the classes. Errors may occur.\")\n"
     ]
    },
    {
     "name": "stdout",
     "output_type": "stream",
     "text": [
      "Creating the labels for each superpixel...\n",
      "Creating the features for each superpixel...\n",
      "Training the Random Forest classifier...\n",
      "Validation accuracy: 0.97048\n"
     ]
    },
    {
     "name": "stderr",
     "output_type": "stream",
     "text": [
      "C:\\Users\\tnguyen001\\Documents\\GitHub\\coral_mapping\\clean\\coral_mapper.py:56: RuntimeWarning: Got image with third dimension of 4. This image will be interpreted as a multichannel 2d image, which may not be intended.\n",
      "  segments = felzenszwalb(img_for_segmentation,*args,**kwargs)\n",
      "C:\\Users\\tnguyen001\\Documents\\GitHub\\coral_mapping\\clean\\coral_mapper.py:106: UserWarning: The training set does not contain all the classes. Errors may occur.\n",
      "  warnings.warn(\"The training set does not contain all the classes. Errors may occur.\")\n"
     ]
    },
    {
     "name": "stdout",
     "output_type": "stream",
     "text": [
      "Creating the labels for each superpixel...\n",
      "Creating the features for each superpixel...\n",
      "Training the Random Forest classifier...\n",
      "Validation accuracy: 0.970725\n"
     ]
    },
    {
     "name": "stderr",
     "output_type": "stream",
     "text": [
      "C:\\Users\\tnguyen001\\Documents\\GitHub\\coral_mapping\\clean\\coral_mapper.py:56: RuntimeWarning: Got image with third dimension of 4. This image will be interpreted as a multichannel 2d image, which may not be intended.\n",
      "  segments = felzenszwalb(img_for_segmentation,*args,**kwargs)\n",
      "C:\\Users\\tnguyen001\\Documents\\GitHub\\coral_mapping\\clean\\coral_mapper.py:106: UserWarning: The training set does not contain all the classes. Errors may occur.\n",
      "  warnings.warn(\"The training set does not contain all the classes. Errors may occur.\")\n"
     ]
    },
    {
     "name": "stdout",
     "output_type": "stream",
     "text": [
      "Creating the labels for each superpixel...\n",
      "Creating the features for each superpixel...\n",
      "Training the Random Forest classifier...\n",
      "Validation accuracy: 0.970995\n"
     ]
    },
    {
     "name": "stderr",
     "output_type": "stream",
     "text": [
      "C:\\Users\\tnguyen001\\Documents\\GitHub\\coral_mapping\\clean\\coral_mapper.py:56: RuntimeWarning: Got image with third dimension of 4. This image will be interpreted as a multichannel 2d image, which may not be intended.\n",
      "  segments = felzenszwalb(img_for_segmentation,*args,**kwargs)\n",
      "C:\\Users\\tnguyen001\\Documents\\GitHub\\coral_mapping\\clean\\coral_mapper.py:106: UserWarning: The training set does not contain all the classes. Errors may occur.\n",
      "  warnings.warn(\"The training set does not contain all the classes. Errors may occur.\")\n"
     ]
    },
    {
     "name": "stdout",
     "output_type": "stream",
     "text": [
      "Creating the labels for each superpixel...\n",
      "Creating the features for each superpixel...\n",
      "Training the Random Forest classifier...\n",
      "Validation accuracy: 0.97104\n"
     ]
    },
    {
     "name": "stderr",
     "output_type": "stream",
     "text": [
      "C:\\Users\\tnguyen001\\Documents\\GitHub\\coral_mapping\\clean\\coral_mapper.py:56: RuntimeWarning: Got image with third dimension of 4. This image will be interpreted as a multichannel 2d image, which may not be intended.\n",
      "  segments = felzenszwalb(img_for_segmentation,*args,**kwargs)\n",
      "C:\\Users\\tnguyen001\\Documents\\GitHub\\coral_mapping\\clean\\coral_mapper.py:106: UserWarning: The training set does not contain all the classes. Errors may occur.\n",
      "  warnings.warn(\"The training set does not contain all the classes. Errors may occur.\")\n"
     ]
    },
    {
     "name": "stdout",
     "output_type": "stream",
     "text": [
      "Creating the labels for each superpixel...\n",
      "Creating the features for each superpixel...\n",
      "Training the Random Forest classifier...\n",
      "Validation accuracy: 0.97072\n"
     ]
    },
    {
     "name": "stderr",
     "output_type": "stream",
     "text": [
      "C:\\Users\\tnguyen001\\Documents\\GitHub\\coral_mapping\\clean\\coral_mapper.py:56: RuntimeWarning: Got image with third dimension of 4. This image will be interpreted as a multichannel 2d image, which may not be intended.\n",
      "  segments = felzenszwalb(img_for_segmentation,*args,**kwargs)\n",
      "C:\\Users\\tnguyen001\\Documents\\GitHub\\coral_mapping\\clean\\coral_mapper.py:106: UserWarning: The training set does not contain all the classes. Errors may occur.\n",
      "  warnings.warn(\"The training set does not contain all the classes. Errors may occur.\")\n"
     ]
    },
    {
     "name": "stdout",
     "output_type": "stream",
     "text": [
      "Creating the labels for each superpixel...\n",
      "Creating the features for each superpixel...\n",
      "Training the Random Forest classifier...\n",
      "Validation accuracy: 0.97031\n"
     ]
    },
    {
     "name": "stderr",
     "output_type": "stream",
     "text": [
      "C:\\Users\\tnguyen001\\Documents\\GitHub\\coral_mapping\\clean\\coral_mapper.py:56: RuntimeWarning: Got image with third dimension of 4. This image will be interpreted as a multichannel 2d image, which may not be intended.\n",
      "  segments = felzenszwalb(img_for_segmentation,*args,**kwargs)\n",
      "C:\\Users\\tnguyen001\\Documents\\GitHub\\coral_mapping\\clean\\coral_mapper.py:106: UserWarning: The training set does not contain all the classes. Errors may occur.\n",
      "  warnings.warn(\"The training set does not contain all the classes. Errors may occur.\")\n"
     ]
    },
    {
     "name": "stdout",
     "output_type": "stream",
     "text": [
      "Creating the labels for each superpixel...\n",
      "Creating the features for each superpixel...\n",
      "Training the Random Forest classifier...\n",
      "Validation accuracy: 0.970735\n"
     ]
    },
    {
     "name": "stderr",
     "output_type": "stream",
     "text": [
      "C:\\Users\\tnguyen001\\Documents\\GitHub\\coral_mapping\\clean\\coral_mapper.py:56: RuntimeWarning: Got image with third dimension of 4. This image will be interpreted as a multichannel 2d image, which may not be intended.\n",
      "  segments = felzenszwalb(img_for_segmentation,*args,**kwargs)\n",
      "C:\\Users\\tnguyen001\\Documents\\GitHub\\coral_mapping\\clean\\coral_mapper.py:106: UserWarning: The training set does not contain all the classes. Errors may occur.\n",
      "  warnings.warn(\"The training set does not contain all the classes. Errors may occur.\")\n"
     ]
    },
    {
     "name": "stdout",
     "output_type": "stream",
     "text": [
      "Creating the labels for each superpixel...\n",
      "Creating the features for each superpixel...\n",
      "Training the Random Forest classifier...\n",
      "Validation accuracy: 0.97046\n"
     ]
    },
    {
     "name": "stderr",
     "output_type": "stream",
     "text": [
      "C:\\Users\\tnguyen001\\Documents\\GitHub\\coral_mapping\\clean\\coral_mapper.py:56: RuntimeWarning: Got image with third dimension of 4. This image will be interpreted as a multichannel 2d image, which may not be intended.\n",
      "  segments = felzenszwalb(img_for_segmentation,*args,**kwargs)\n",
      "C:\\Users\\tnguyen001\\Documents\\GitHub\\coral_mapping\\clean\\coral_mapper.py:106: UserWarning: The training set does not contain all the classes. Errors may occur.\n",
      "  warnings.warn(\"The training set does not contain all the classes. Errors may occur.\")\n"
     ]
    },
    {
     "name": "stdout",
     "output_type": "stream",
     "text": [
      "Creating the labels for each superpixel...\n",
      "Creating the features for each superpixel...\n",
      "Training the Random Forest classifier...\n",
      "Validation accuracy: 0.970025\n"
     ]
    },
    {
     "name": "stderr",
     "output_type": "stream",
     "text": [
      "C:\\Users\\tnguyen001\\Documents\\GitHub\\coral_mapping\\clean\\coral_mapper.py:56: RuntimeWarning: Got image with third dimension of 4. This image will be interpreted as a multichannel 2d image, which may not be intended.\n",
      "  segments = felzenszwalb(img_for_segmentation,*args,**kwargs)\n"
     ]
    },
    {
     "name": "stdout",
     "output_type": "stream",
     "text": [
      "Wall time: 18min 9s\n"
     ]
    }
   ],
   "source": [
    "%%time\n",
    "scores_pb = []\n",
    "scores_smooth = []\n",
    "scores_pp = []\n",
    "for i in range(10):\n",
    "    map_test = coral_map([img_blue,img_green,img_red,img_nir], map_img=img_rugo_zones, size_img=3)\n",
    "    random.seed(i)\n",
    "    \n",
    "    random_train_test = random.sample(index_combination,size_subset)\n",
    "    training_set_indexes_pb = random_train_test[:size_subset//5]\n",
    "    testing_set_indexes_pb = random_train_test[size_subset//5:]\n",
    "\n",
    "    map_test.train_pixelbased_rf(training_set_indexes_pb, testing_set_indexes_pb, undersampling=0)\n",
    "\n",
    "    map_test.predict_map_pixelbased_rf()\n",
    "\n",
    "    predicted_map_pixelbased_rf_classes = np.argmax(map_test.predicted_map_pb_rf,axis=2)+1\n",
    "    score_pb = score_map(img_rugo_zones,predicted_map_pixelbased_rf_classes,[0,4,5], map_test.segments, training_set_indexes_pb, [], size_superpixel=3)\n",
    "    \n",
    "    #smoothing\n",
    "    map_test.segmentation(use_pb_pred=True, scale=1.5, sigma=1., min_size=20)\n",
    "    map_test.smooth_pb_rf()\n",
    "    map_test.smoothed_map_pb_rf = map_test.smoothed_map_pb_rf+1\n",
    "    smooth_map = np.copy(map_test.smoothed_map_pb_rf)\n",
    "    score_map_smooth = score_map(img_rugo_zones, smooth_map,[0,4,5], map_test.segments, training_set_indexes_pb, [], size_superpixel=3)\n",
    "    \n",
    "    #post-processing\n",
    "    segments_classes = np.copy(map_test.y_segments_pb_rf_classes)\n",
    "    boundaries = find_boundaries(map_test.segments)\n",
    "    adjacent_segments,_ = segments_regressor.find_adjacent_segments(map_test.segments, boundaries)\n",
    "\n",
    "    list_wrong_neighbours = []\n",
    "    for i in range(len(adjacent_segments)):\n",
    "        wrong_neighbours = 0\n",
    "        s = adjacent_segments[i]\n",
    "        s_class = segments_classes[i]\n",
    "        if s_class > 0:\n",
    "            s_connectivity = connectivity[s_class]\n",
    "            for j in s:\n",
    "                if segments_classes[j]>0:\n",
    "                    if s_connectivity[segments_classes[j]] == 0 :\n",
    "                        wrong_neighbours += 1\n",
    "        list_wrong_neighbours.append(wrong_neighbours/len(s))\n",
    "\n",
    "    threshold = 0.8\n",
    "    nb_wrong_segments=0\n",
    "    for i, value in enumerate(list_wrong_neighbours):\n",
    "        if value>0:\n",
    "            #assign the majority of neighbours to this segment\n",
    "            nb_wrong_segments+=1\n",
    "            lst_temp = [segments_classes[j] for j in adjacent_segments[i]]\n",
    "            majority_neighbours = max(set(lst_temp), key=lst_temp.count)\n",
    "            if majority_neighbours/len(lst_temp) > threshold:\n",
    "                segments_classes[i] = majority_neighbours\n",
    "\n",
    "    new_map = np.copy(map_test.segments)\n",
    "    for i in range(np.max(map_test.segments)+1):\n",
    "        new_map[map_test.segments==i] = segments_classes[i]+1\n",
    "\n",
    "    score_pp = score_map(img_rugo_zones,new_map,[0,4,5], map_test.segments, training_set_indexes_pb, [], size_superpixel=3)\n",
    "    \n",
    "    scores_pb.append(score_pb)\n",
    "    scores_smooth.append(score_map_smooth)\n",
    "    scores_pp.append(score_pp)"
   ]
  },
  {
   "cell_type": "code",
   "execution_count": 64,
   "metadata": {},
   "outputs": [
    {
     "name": "stdout",
     "output_type": "stream",
     "text": [
      "0.9072 0.0049\n",
      "0.8689 0.0057\n",
      "0.8696 0.0051\n"
     ]
    }
   ],
   "source": [
    "print(np.round(np.mean(scores_pb),4), np.round(np.std(scores_pb),4))\n",
    "print(np.round(np.mean(scores_smooth),4), np.round(np.std(scores_smooth),4))\n",
    "print(np.round(np.mean(scores_pp),4), np.round(np.std(scores_pp),4))"
   ]
  }
 ],
 "metadata": {
  "kernelspec": {
   "display_name": "Python 3",
   "language": "python",
   "name": "python3"
  },
  "language_info": {
   "codemirror_mode": {
    "name": "ipython",
    "version": 3
   },
   "file_extension": ".py",
   "mimetype": "text/x-python",
   "name": "python",
   "nbconvert_exporter": "python",
   "pygments_lexer": "ipython3",
   "version": "3.8.5"
  }
 },
 "nbformat": 4,
 "nbformat_minor": 4
}
