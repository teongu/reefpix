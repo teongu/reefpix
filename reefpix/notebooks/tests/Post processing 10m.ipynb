{
 "cells": [
  {
   "cell_type": "code",
   "execution_count": 1,
   "metadata": {},
   "outputs": [],
   "source": [
    "%load_ext autoreload\n",
    "%autoreload 2"
   ]
  },
  {
   "cell_type": "code",
   "execution_count": 2,
   "metadata": {},
   "outputs": [
    {
     "name": "stderr",
     "output_type": "stream",
     "text": [
      "C:\\Users\\tnguyen001\\AppData\\Roaming\\Python\\Python38\\site-packages\\pandas\\core\\computation\\expressions.py:20: UserWarning: Pandas requires version '2.7.3' or newer of 'numexpr' (version '2.7.1' currently installed).\n",
      "  from pandas.core.computation.check import NUMEXPR_INSTALLED\n"
     ]
    }
   ],
   "source": [
    "import numpy as np\n",
    "import pandas as pd\n",
    "import importlib\n",
    "import matplotlib.pyplot as plt\n",
    "import matplotlib.image as mpimg\n",
    "from matplotlib import cm\n",
    "from matplotlib.colors import ListedColormap, LinearSegmentedColormap\n",
    "from skimage.segmentation import mark_boundaries\n",
    "import itertools\n",
    "import random\n",
    "import time\n",
    "import pickle"
   ]
  },
  {
   "cell_type": "code",
   "execution_count": 3,
   "metadata": {},
   "outputs": [],
   "source": [
    "from coral_mapper_functions import score_map\n",
    "from coral_mapper import coral_map"
   ]
  },
  {
   "cell_type": "code",
   "execution_count": 4,
   "metadata": {},
   "outputs": [],
   "source": [
    "full_doc = pd.read_excel(\"../../../Maupiti/Data/connectivityTable.ods\")"
   ]
  },
  {
   "cell_type": "code",
   "execution_count": 5,
   "metadata": {},
   "outputs": [
    {
     "data": {
      "text/html": [
       "<div>\n",
       "<style scoped>\n",
       "    .dataframe tbody tr th:only-of-type {\n",
       "        vertical-align: middle;\n",
       "    }\n",
       "\n",
       "    .dataframe tbody tr th {\n",
       "        vertical-align: top;\n",
       "    }\n",
       "\n",
       "    .dataframe thead th {\n",
       "        text-align: right;\n",
       "    }\n",
       "</style>\n",
       "<table border=\"1\" class=\"dataframe\">\n",
       "  <thead>\n",
       "    <tr style=\"text-align: right;\">\n",
       "      <th></th>\n",
       "      <th>Unnamed: 0</th>\n",
       "      <th>Ocean</th>\n",
       "      <th>Reef Front</th>\n",
       "      <th>Reef Crest</th>\n",
       "      <th>Outer Reef Flat</th>\n",
       "      <th>Inner Reef</th>\n",
       "      <th>Back Reef Slope</th>\n",
       "      <th>Shallow lagoon</th>\n",
       "      <th>Lagoon</th>\n",
       "      <th>Patch Reef</th>\n",
       "      <th>Shore Reef</th>\n",
       "      <th>Land</th>\n",
       "    </tr>\n",
       "  </thead>\n",
       "  <tbody>\n",
       "    <tr>\n",
       "      <th>0</th>\n",
       "      <td>Ocean</td>\n",
       "      <td>NaN</td>\n",
       "      <td>X</td>\n",
       "      <td>X</td>\n",
       "      <td>~</td>\n",
       "      <td>O</td>\n",
       "      <td>O</td>\n",
       "      <td>O</td>\n",
       "      <td>~</td>\n",
       "      <td>O</td>\n",
       "      <td>O</td>\n",
       "      <td>O</td>\n",
       "    </tr>\n",
       "    <tr>\n",
       "      <th>1</th>\n",
       "      <td>Reef Front</td>\n",
       "      <td>X</td>\n",
       "      <td>NaN</td>\n",
       "      <td>X</td>\n",
       "      <td>~</td>\n",
       "      <td>O</td>\n",
       "      <td>O</td>\n",
       "      <td>O</td>\n",
       "      <td>O</td>\n",
       "      <td>O</td>\n",
       "      <td>O</td>\n",
       "      <td>O</td>\n",
       "    </tr>\n",
       "    <tr>\n",
       "      <th>2</th>\n",
       "      <td>Reef Crest</td>\n",
       "      <td>X</td>\n",
       "      <td>X</td>\n",
       "      <td>NaN</td>\n",
       "      <td>X</td>\n",
       "      <td>~</td>\n",
       "      <td>O</td>\n",
       "      <td>O</td>\n",
       "      <td>O</td>\n",
       "      <td>O</td>\n",
       "      <td>O</td>\n",
       "      <td>O</td>\n",
       "    </tr>\n",
       "    <tr>\n",
       "      <th>3</th>\n",
       "      <td>Outer Reef Flat</td>\n",
       "      <td>~</td>\n",
       "      <td>~</td>\n",
       "      <td>X</td>\n",
       "      <td>NaN</td>\n",
       "      <td>X</td>\n",
       "      <td>~</td>\n",
       "      <td>O</td>\n",
       "      <td>O</td>\n",
       "      <td>O</td>\n",
       "      <td>O</td>\n",
       "      <td>O</td>\n",
       "    </tr>\n",
       "    <tr>\n",
       "      <th>4</th>\n",
       "      <td>Inner Reef</td>\n",
       "      <td>O</td>\n",
       "      <td>O</td>\n",
       "      <td>~</td>\n",
       "      <td>X</td>\n",
       "      <td>NaN</td>\n",
       "      <td>X</td>\n",
       "      <td>~</td>\n",
       "      <td>O</td>\n",
       "      <td>O</td>\n",
       "      <td>O</td>\n",
       "      <td>~</td>\n",
       "    </tr>\n",
       "    <tr>\n",
       "      <th>5</th>\n",
       "      <td>Back Reef Slope</td>\n",
       "      <td>O</td>\n",
       "      <td>O</td>\n",
       "      <td>O</td>\n",
       "      <td>~</td>\n",
       "      <td>X</td>\n",
       "      <td>NaN</td>\n",
       "      <td>O</td>\n",
       "      <td>~</td>\n",
       "      <td>O</td>\n",
       "      <td>O</td>\n",
       "      <td>~</td>\n",
       "    </tr>\n",
       "    <tr>\n",
       "      <th>6</th>\n",
       "      <td>Shallow lagoon</td>\n",
       "      <td>O</td>\n",
       "      <td>O</td>\n",
       "      <td>O</td>\n",
       "      <td>O</td>\n",
       "      <td>~</td>\n",
       "      <td>O</td>\n",
       "      <td>NaN</td>\n",
       "      <td>X</td>\n",
       "      <td>X</td>\n",
       "      <td>X</td>\n",
       "      <td>~</td>\n",
       "    </tr>\n",
       "    <tr>\n",
       "      <th>7</th>\n",
       "      <td>Lagoon</td>\n",
       "      <td>~</td>\n",
       "      <td>O</td>\n",
       "      <td>O</td>\n",
       "      <td>O</td>\n",
       "      <td>O</td>\n",
       "      <td>~</td>\n",
       "      <td>X</td>\n",
       "      <td>NaN</td>\n",
       "      <td>X</td>\n",
       "      <td>X</td>\n",
       "      <td>~</td>\n",
       "    </tr>\n",
       "    <tr>\n",
       "      <th>8</th>\n",
       "      <td>Patch Reef</td>\n",
       "      <td>O</td>\n",
       "      <td>O</td>\n",
       "      <td>O</td>\n",
       "      <td>O</td>\n",
       "      <td>O</td>\n",
       "      <td>O</td>\n",
       "      <td>X</td>\n",
       "      <td>X</td>\n",
       "      <td>NaN</td>\n",
       "      <td>X</td>\n",
       "      <td>~</td>\n",
       "    </tr>\n",
       "    <tr>\n",
       "      <th>9</th>\n",
       "      <td>Shore Reef</td>\n",
       "      <td>O</td>\n",
       "      <td>O</td>\n",
       "      <td>O</td>\n",
       "      <td>O</td>\n",
       "      <td>O</td>\n",
       "      <td>O</td>\n",
       "      <td>X</td>\n",
       "      <td>X</td>\n",
       "      <td>X</td>\n",
       "      <td>NaN</td>\n",
       "      <td>X</td>\n",
       "    </tr>\n",
       "    <tr>\n",
       "      <th>10</th>\n",
       "      <td>Land</td>\n",
       "      <td>O</td>\n",
       "      <td>O</td>\n",
       "      <td>O</td>\n",
       "      <td>O</td>\n",
       "      <td>~</td>\n",
       "      <td>~</td>\n",
       "      <td>~</td>\n",
       "      <td>~</td>\n",
       "      <td>~</td>\n",
       "      <td>X</td>\n",
       "      <td>NaN</td>\n",
       "    </tr>\n",
       "  </tbody>\n",
       "</table>\n",
       "</div>"
      ],
      "text/plain": [
       "          Unnamed: 0 Ocean Reef Front Reef Crest Outer Reef Flat  Inner Reef  \\\n",
       "0              Ocean   NaN          X          X                ~          O   \n",
       "1         Reef Front     X        NaN          X                ~          O   \n",
       "2         Reef Crest     X          X        NaN                X          ~   \n",
       "3   Outer Reef Flat      ~          ~          X              NaN          X   \n",
       "4         Inner Reef     O          O          ~                X        NaN   \n",
       "5    Back Reef Slope     O          O          O                ~          X   \n",
       "6     Shallow lagoon     O          O          O                O          ~   \n",
       "7             Lagoon     ~          O          O                O          O   \n",
       "8         Patch Reef     O          O          O                O          O   \n",
       "9        Shore Reef      O          O          O                O          O   \n",
       "10              Land     O          O          O                O          ~   \n",
       "\n",
       "   Back Reef Slope Shallow lagoon Lagoon Patch Reef Shore Reef  Land  \n",
       "0                O              O      ~          O           O    O  \n",
       "1                O              O      O          O           O    O  \n",
       "2                O              O      O          O           O    O  \n",
       "3                ~              O      O          O           O    O  \n",
       "4                X              ~      O          O           O    ~  \n",
       "5              NaN              O      ~          O           O    ~  \n",
       "6                O            NaN      X          X           X    ~  \n",
       "7                ~              X    NaN          X           X    ~  \n",
       "8                O              X      X        NaN           X    ~  \n",
       "9                O              X      X          X         NaN    X  \n",
       "10               ~              ~      ~          ~           X  NaN  "
      ]
     },
     "execution_count": 5,
     "metadata": {},
     "output_type": "execute_result"
    }
   ],
   "source": [
    "full_doc[:11]"
   ]
  },
  {
   "cell_type": "code",
   "execution_count": 6,
   "metadata": {},
   "outputs": [],
   "source": [
    "connectivity = full_doc[:11].replace('O',1).replace('X',0).replace('~',2)"
   ]
  },
  {
   "cell_type": "code",
   "execution_count": 7,
   "metadata": {},
   "outputs": [
    {
     "data": {
      "text/html": [
       "<div>\n",
       "<style scoped>\n",
       "    .dataframe tbody tr th:only-of-type {\n",
       "        vertical-align: middle;\n",
       "    }\n",
       "\n",
       "    .dataframe tbody tr th {\n",
       "        vertical-align: top;\n",
       "    }\n",
       "\n",
       "    .dataframe thead th {\n",
       "        text-align: right;\n",
       "    }\n",
       "</style>\n",
       "<table border=\"1\" class=\"dataframe\">\n",
       "  <thead>\n",
       "    <tr style=\"text-align: right;\">\n",
       "      <th></th>\n",
       "      <th>Unnamed: 0</th>\n",
       "      <th>Ocean</th>\n",
       "      <th>Reef Front</th>\n",
       "      <th>Reef Crest</th>\n",
       "      <th>Outer Reef Flat</th>\n",
       "      <th>Inner Reef</th>\n",
       "      <th>Back Reef Slope</th>\n",
       "      <th>Shallow lagoon</th>\n",
       "      <th>Lagoon</th>\n",
       "      <th>Patch Reef</th>\n",
       "      <th>Shore Reef</th>\n",
       "      <th>Land</th>\n",
       "    </tr>\n",
       "  </thead>\n",
       "  <tbody>\n",
       "    <tr>\n",
       "      <th>0</th>\n",
       "      <td>Ocean</td>\n",
       "      <td>NaN</td>\n",
       "      <td>0.0</td>\n",
       "      <td>0.0</td>\n",
       "      <td>2.0</td>\n",
       "      <td>1.0</td>\n",
       "      <td>1.0</td>\n",
       "      <td>1.0</td>\n",
       "      <td>2.0</td>\n",
       "      <td>1.0</td>\n",
       "      <td>1.0</td>\n",
       "      <td>1.0</td>\n",
       "    </tr>\n",
       "    <tr>\n",
       "      <th>1</th>\n",
       "      <td>Reef Front</td>\n",
       "      <td>0.0</td>\n",
       "      <td>NaN</td>\n",
       "      <td>0.0</td>\n",
       "      <td>2.0</td>\n",
       "      <td>1.0</td>\n",
       "      <td>1.0</td>\n",
       "      <td>1.0</td>\n",
       "      <td>1.0</td>\n",
       "      <td>1.0</td>\n",
       "      <td>1.0</td>\n",
       "      <td>1.0</td>\n",
       "    </tr>\n",
       "    <tr>\n",
       "      <th>2</th>\n",
       "      <td>Reef Crest</td>\n",
       "      <td>0.0</td>\n",
       "      <td>0.0</td>\n",
       "      <td>NaN</td>\n",
       "      <td>0.0</td>\n",
       "      <td>2.0</td>\n",
       "      <td>1.0</td>\n",
       "      <td>1.0</td>\n",
       "      <td>1.0</td>\n",
       "      <td>1.0</td>\n",
       "      <td>1.0</td>\n",
       "      <td>1.0</td>\n",
       "    </tr>\n",
       "    <tr>\n",
       "      <th>3</th>\n",
       "      <td>Outer Reef Flat</td>\n",
       "      <td>2.0</td>\n",
       "      <td>2.0</td>\n",
       "      <td>0.0</td>\n",
       "      <td>NaN</td>\n",
       "      <td>0.0</td>\n",
       "      <td>2.0</td>\n",
       "      <td>1.0</td>\n",
       "      <td>1.0</td>\n",
       "      <td>1.0</td>\n",
       "      <td>1.0</td>\n",
       "      <td>1.0</td>\n",
       "    </tr>\n",
       "    <tr>\n",
       "      <th>4</th>\n",
       "      <td>Inner Reef</td>\n",
       "      <td>1.0</td>\n",
       "      <td>1.0</td>\n",
       "      <td>2.0</td>\n",
       "      <td>0.0</td>\n",
       "      <td>NaN</td>\n",
       "      <td>0.0</td>\n",
       "      <td>2.0</td>\n",
       "      <td>1.0</td>\n",
       "      <td>1.0</td>\n",
       "      <td>1.0</td>\n",
       "      <td>2.0</td>\n",
       "    </tr>\n",
       "    <tr>\n",
       "      <th>5</th>\n",
       "      <td>Back Reef Slope</td>\n",
       "      <td>1.0</td>\n",
       "      <td>1.0</td>\n",
       "      <td>1.0</td>\n",
       "      <td>2.0</td>\n",
       "      <td>0.0</td>\n",
       "      <td>NaN</td>\n",
       "      <td>1.0</td>\n",
       "      <td>2.0</td>\n",
       "      <td>1.0</td>\n",
       "      <td>1.0</td>\n",
       "      <td>2.0</td>\n",
       "    </tr>\n",
       "    <tr>\n",
       "      <th>6</th>\n",
       "      <td>Shallow lagoon</td>\n",
       "      <td>1.0</td>\n",
       "      <td>1.0</td>\n",
       "      <td>1.0</td>\n",
       "      <td>1.0</td>\n",
       "      <td>2.0</td>\n",
       "      <td>1.0</td>\n",
       "      <td>NaN</td>\n",
       "      <td>0.0</td>\n",
       "      <td>0.0</td>\n",
       "      <td>0.0</td>\n",
       "      <td>2.0</td>\n",
       "    </tr>\n",
       "    <tr>\n",
       "      <th>7</th>\n",
       "      <td>Lagoon</td>\n",
       "      <td>2.0</td>\n",
       "      <td>1.0</td>\n",
       "      <td>1.0</td>\n",
       "      <td>1.0</td>\n",
       "      <td>1.0</td>\n",
       "      <td>2.0</td>\n",
       "      <td>0.0</td>\n",
       "      <td>NaN</td>\n",
       "      <td>0.0</td>\n",
       "      <td>0.0</td>\n",
       "      <td>2.0</td>\n",
       "    </tr>\n",
       "    <tr>\n",
       "      <th>8</th>\n",
       "      <td>Patch Reef</td>\n",
       "      <td>1.0</td>\n",
       "      <td>1.0</td>\n",
       "      <td>1.0</td>\n",
       "      <td>1.0</td>\n",
       "      <td>1.0</td>\n",
       "      <td>1.0</td>\n",
       "      <td>0.0</td>\n",
       "      <td>0.0</td>\n",
       "      <td>NaN</td>\n",
       "      <td>0.0</td>\n",
       "      <td>2.0</td>\n",
       "    </tr>\n",
       "    <tr>\n",
       "      <th>9</th>\n",
       "      <td>Shore Reef</td>\n",
       "      <td>1.0</td>\n",
       "      <td>1.0</td>\n",
       "      <td>1.0</td>\n",
       "      <td>1.0</td>\n",
       "      <td>1.0</td>\n",
       "      <td>1.0</td>\n",
       "      <td>0.0</td>\n",
       "      <td>0.0</td>\n",
       "      <td>0.0</td>\n",
       "      <td>NaN</td>\n",
       "      <td>0.0</td>\n",
       "    </tr>\n",
       "    <tr>\n",
       "      <th>10</th>\n",
       "      <td>Land</td>\n",
       "      <td>1.0</td>\n",
       "      <td>1.0</td>\n",
       "      <td>1.0</td>\n",
       "      <td>1.0</td>\n",
       "      <td>2.0</td>\n",
       "      <td>2.0</td>\n",
       "      <td>2.0</td>\n",
       "      <td>2.0</td>\n",
       "      <td>2.0</td>\n",
       "      <td>0.0</td>\n",
       "      <td>NaN</td>\n",
       "    </tr>\n",
       "  </tbody>\n",
       "</table>\n",
       "</div>"
      ],
      "text/plain": [
       "          Unnamed: 0  Ocean  Reef Front  Reef Crest  Outer Reef Flat   \\\n",
       "0              Ocean    NaN         0.0         0.0               2.0   \n",
       "1         Reef Front    0.0         NaN         0.0               2.0   \n",
       "2         Reef Crest    0.0         0.0         NaN               0.0   \n",
       "3   Outer Reef Flat     2.0         2.0         0.0               NaN   \n",
       "4         Inner Reef    1.0         1.0         2.0               0.0   \n",
       "5    Back Reef Slope    1.0         1.0         1.0               2.0   \n",
       "6     Shallow lagoon    1.0         1.0         1.0               1.0   \n",
       "7             Lagoon    2.0         1.0         1.0               1.0   \n",
       "8         Patch Reef    1.0         1.0         1.0               1.0   \n",
       "9        Shore Reef     1.0         1.0         1.0               1.0   \n",
       "10              Land    1.0         1.0         1.0               1.0   \n",
       "\n",
       "    Inner Reef  Back Reef Slope  Shallow lagoon  Lagoon  Patch Reef  \\\n",
       "0          1.0              1.0             1.0     2.0         1.0   \n",
       "1          1.0              1.0             1.0     1.0         1.0   \n",
       "2          2.0              1.0             1.0     1.0         1.0   \n",
       "3          0.0              2.0             1.0     1.0         1.0   \n",
       "4          NaN              0.0             2.0     1.0         1.0   \n",
       "5          0.0              NaN             1.0     2.0         1.0   \n",
       "6          2.0              1.0             NaN     0.0         0.0   \n",
       "7          1.0              2.0             0.0     NaN         0.0   \n",
       "8          1.0              1.0             0.0     0.0         NaN   \n",
       "9          1.0              1.0             0.0     0.0         0.0   \n",
       "10         2.0              2.0             2.0     2.0         2.0   \n",
       "\n",
       "    Shore Reef   Land  \n",
       "0           1.0   1.0  \n",
       "1           1.0   1.0  \n",
       "2           1.0   1.0  \n",
       "3           1.0   1.0  \n",
       "4           1.0   2.0  \n",
       "5           1.0   2.0  \n",
       "6           0.0   2.0  \n",
       "7           0.0   2.0  \n",
       "8           0.0   2.0  \n",
       "9           NaN   0.0  \n",
       "10          0.0   NaN  "
      ]
     },
     "execution_count": 7,
     "metadata": {},
     "output_type": "execute_result"
    }
   ],
   "source": [
    "connectivity"
   ]
  },
  {
   "cell_type": "code",
   "execution_count": 8,
   "metadata": {},
   "outputs": [],
   "source": [
    "connectivity.set_index('Unnamed: 0', inplace=True)"
   ]
  },
  {
   "cell_type": "code",
   "execution_count": 9,
   "metadata": {},
   "outputs": [],
   "source": [
    "classes_type = ['Back Reef Slope', 'Inner Reef', 'Lagoon', 'Land', 'Ocean',\n",
    "                'Outer Reef Flat ', 'Patch Reef', 'Reef Crest', 'Reef Front', 'Shallow lagoon', 'Shore Reef ']"
   ]
  },
  {
   "cell_type": "code",
   "execution_count": 10,
   "metadata": {},
   "outputs": [
    {
     "data": {
      "text/plain": [
       "{'Back Reef Slope': 1,\n",
       " 'Inner Reef': 2,\n",
       " 'Lagoon': 3,\n",
       " 'Land': 4,\n",
       " 'Ocean': 5,\n",
       " 'Outer Reef Flat ': 6,\n",
       " 'Patch Reef': 7,\n",
       " 'Reef Crest': 8,\n",
       " 'Reef Front': 9,\n",
       " 'Shallow lagoon': 10,\n",
       " 'Shore Reef ': 11}"
      ]
     },
     "execution_count": 10,
     "metadata": {},
     "output_type": "execute_result"
    }
   ],
   "source": [
    "mapping = {name: i for i, name in zip(np.arange(1,12), classes_type)}\n",
    "mapping"
   ]
  },
  {
   "cell_type": "code",
   "execution_count": 11,
   "metadata": {},
   "outputs": [
    {
     "data": {
      "text/html": [
       "<div>\n",
       "<style scoped>\n",
       "    .dataframe tbody tr th:only-of-type {\n",
       "        vertical-align: middle;\n",
       "    }\n",
       "\n",
       "    .dataframe tbody tr th {\n",
       "        vertical-align: top;\n",
       "    }\n",
       "\n",
       "    .dataframe thead th {\n",
       "        text-align: right;\n",
       "    }\n",
       "</style>\n",
       "<table border=\"1\" class=\"dataframe\">\n",
       "  <thead>\n",
       "    <tr style=\"text-align: right;\">\n",
       "      <th></th>\n",
       "      <th>5</th>\n",
       "      <th>9</th>\n",
       "      <th>8</th>\n",
       "      <th>6</th>\n",
       "      <th>2</th>\n",
       "      <th>1</th>\n",
       "      <th>10</th>\n",
       "      <th>3</th>\n",
       "      <th>7</th>\n",
       "      <th>11</th>\n",
       "      <th>4</th>\n",
       "    </tr>\n",
       "    <tr>\n",
       "      <th>Unnamed: 0</th>\n",
       "      <th></th>\n",
       "      <th></th>\n",
       "      <th></th>\n",
       "      <th></th>\n",
       "      <th></th>\n",
       "      <th></th>\n",
       "      <th></th>\n",
       "      <th></th>\n",
       "      <th></th>\n",
       "      <th></th>\n",
       "      <th></th>\n",
       "    </tr>\n",
       "  </thead>\n",
       "  <tbody>\n",
       "    <tr>\n",
       "      <th>5</th>\n",
       "      <td>NaN</td>\n",
       "      <td>0.0</td>\n",
       "      <td>0.0</td>\n",
       "      <td>2.0</td>\n",
       "      <td>1.0</td>\n",
       "      <td>1.0</td>\n",
       "      <td>1.0</td>\n",
       "      <td>2.0</td>\n",
       "      <td>1.0</td>\n",
       "      <td>1.0</td>\n",
       "      <td>1.0</td>\n",
       "    </tr>\n",
       "    <tr>\n",
       "      <th>9</th>\n",
       "      <td>0.0</td>\n",
       "      <td>NaN</td>\n",
       "      <td>0.0</td>\n",
       "      <td>2.0</td>\n",
       "      <td>1.0</td>\n",
       "      <td>1.0</td>\n",
       "      <td>1.0</td>\n",
       "      <td>1.0</td>\n",
       "      <td>1.0</td>\n",
       "      <td>1.0</td>\n",
       "      <td>1.0</td>\n",
       "    </tr>\n",
       "    <tr>\n",
       "      <th>8</th>\n",
       "      <td>0.0</td>\n",
       "      <td>0.0</td>\n",
       "      <td>NaN</td>\n",
       "      <td>0.0</td>\n",
       "      <td>2.0</td>\n",
       "      <td>1.0</td>\n",
       "      <td>1.0</td>\n",
       "      <td>1.0</td>\n",
       "      <td>1.0</td>\n",
       "      <td>1.0</td>\n",
       "      <td>1.0</td>\n",
       "    </tr>\n",
       "    <tr>\n",
       "      <th>6</th>\n",
       "      <td>2.0</td>\n",
       "      <td>2.0</td>\n",
       "      <td>0.0</td>\n",
       "      <td>NaN</td>\n",
       "      <td>0.0</td>\n",
       "      <td>2.0</td>\n",
       "      <td>1.0</td>\n",
       "      <td>1.0</td>\n",
       "      <td>1.0</td>\n",
       "      <td>1.0</td>\n",
       "      <td>1.0</td>\n",
       "    </tr>\n",
       "    <tr>\n",
       "      <th>2</th>\n",
       "      <td>1.0</td>\n",
       "      <td>1.0</td>\n",
       "      <td>2.0</td>\n",
       "      <td>0.0</td>\n",
       "      <td>NaN</td>\n",
       "      <td>0.0</td>\n",
       "      <td>2.0</td>\n",
       "      <td>1.0</td>\n",
       "      <td>1.0</td>\n",
       "      <td>1.0</td>\n",
       "      <td>2.0</td>\n",
       "    </tr>\n",
       "    <tr>\n",
       "      <th>1</th>\n",
       "      <td>1.0</td>\n",
       "      <td>1.0</td>\n",
       "      <td>1.0</td>\n",
       "      <td>2.0</td>\n",
       "      <td>0.0</td>\n",
       "      <td>NaN</td>\n",
       "      <td>1.0</td>\n",
       "      <td>2.0</td>\n",
       "      <td>1.0</td>\n",
       "      <td>1.0</td>\n",
       "      <td>2.0</td>\n",
       "    </tr>\n",
       "    <tr>\n",
       "      <th>10</th>\n",
       "      <td>1.0</td>\n",
       "      <td>1.0</td>\n",
       "      <td>1.0</td>\n",
       "      <td>1.0</td>\n",
       "      <td>2.0</td>\n",
       "      <td>1.0</td>\n",
       "      <td>NaN</td>\n",
       "      <td>0.0</td>\n",
       "      <td>0.0</td>\n",
       "      <td>0.0</td>\n",
       "      <td>2.0</td>\n",
       "    </tr>\n",
       "    <tr>\n",
       "      <th>3</th>\n",
       "      <td>2.0</td>\n",
       "      <td>1.0</td>\n",
       "      <td>1.0</td>\n",
       "      <td>1.0</td>\n",
       "      <td>1.0</td>\n",
       "      <td>2.0</td>\n",
       "      <td>0.0</td>\n",
       "      <td>NaN</td>\n",
       "      <td>0.0</td>\n",
       "      <td>0.0</td>\n",
       "      <td>2.0</td>\n",
       "    </tr>\n",
       "    <tr>\n",
       "      <th>7</th>\n",
       "      <td>1.0</td>\n",
       "      <td>1.0</td>\n",
       "      <td>1.0</td>\n",
       "      <td>1.0</td>\n",
       "      <td>1.0</td>\n",
       "      <td>1.0</td>\n",
       "      <td>0.0</td>\n",
       "      <td>0.0</td>\n",
       "      <td>NaN</td>\n",
       "      <td>0.0</td>\n",
       "      <td>2.0</td>\n",
       "    </tr>\n",
       "    <tr>\n",
       "      <th>11</th>\n",
       "      <td>1.0</td>\n",
       "      <td>1.0</td>\n",
       "      <td>1.0</td>\n",
       "      <td>1.0</td>\n",
       "      <td>1.0</td>\n",
       "      <td>1.0</td>\n",
       "      <td>0.0</td>\n",
       "      <td>0.0</td>\n",
       "      <td>0.0</td>\n",
       "      <td>NaN</td>\n",
       "      <td>0.0</td>\n",
       "    </tr>\n",
       "    <tr>\n",
       "      <th>4</th>\n",
       "      <td>1.0</td>\n",
       "      <td>1.0</td>\n",
       "      <td>1.0</td>\n",
       "      <td>1.0</td>\n",
       "      <td>2.0</td>\n",
       "      <td>2.0</td>\n",
       "      <td>2.0</td>\n",
       "      <td>2.0</td>\n",
       "      <td>2.0</td>\n",
       "      <td>0.0</td>\n",
       "      <td>NaN</td>\n",
       "    </tr>\n",
       "  </tbody>\n",
       "</table>\n",
       "</div>"
      ],
      "text/plain": [
       "             5    9    8    6    2    1    10   3    7    11   4 \n",
       "Unnamed: 0                                                       \n",
       "5           NaN  0.0  0.0  2.0  1.0  1.0  1.0  2.0  1.0  1.0  1.0\n",
       "9           0.0  NaN  0.0  2.0  1.0  1.0  1.0  1.0  1.0  1.0  1.0\n",
       "8           0.0  0.0  NaN  0.0  2.0  1.0  1.0  1.0  1.0  1.0  1.0\n",
       "6           2.0  2.0  0.0  NaN  0.0  2.0  1.0  1.0  1.0  1.0  1.0\n",
       "2           1.0  1.0  2.0  0.0  NaN  0.0  2.0  1.0  1.0  1.0  2.0\n",
       "1           1.0  1.0  1.0  2.0  0.0  NaN  1.0  2.0  1.0  1.0  2.0\n",
       "10          1.0  1.0  1.0  1.0  2.0  1.0  NaN  0.0  0.0  0.0  2.0\n",
       "3           2.0  1.0  1.0  1.0  1.0  2.0  0.0  NaN  0.0  0.0  2.0\n",
       "7           1.0  1.0  1.0  1.0  1.0  1.0  0.0  0.0  NaN  0.0  2.0\n",
       "11          1.0  1.0  1.0  1.0  1.0  1.0  0.0  0.0  0.0  NaN  0.0\n",
       "4           1.0  1.0  1.0  1.0  2.0  2.0  2.0  2.0  2.0  0.0  NaN"
      ]
     },
     "execution_count": 11,
     "metadata": {},
     "output_type": "execute_result"
    }
   ],
   "source": [
    "connectivity = connectivity.rename(columns=mapping)\n",
    "connectivity = connectivity.rename(index=mapping)\n",
    "connectivity"
   ]
  },
  {
   "cell_type": "markdown",
   "metadata": {},
   "source": [
    "# Loading the maps"
   ]
  },
  {
   "cell_type": "code",
   "execution_count": 12,
   "metadata": {},
   "outputs": [],
   "source": [
    "img_rugo_zones = np.load('../v2/data/pleiades_map_types_10m.npy')\n",
    "pleiades_img = np.load('../v2/data/pleiades_ortho_10m.npy')"
   ]
  },
  {
   "cell_type": "code",
   "execution_count": 13,
   "metadata": {},
   "outputs": [],
   "source": [
    "img_blue = (pleiades_img[1]-np.mean(pleiades_img[1]))/np.std(pleiades_img[1])\n",
    "img_green = (pleiades_img[2]-np.mean(pleiades_img[2]))/np.std(pleiades_img[2])\n",
    "img_red = (pleiades_img[3]-np.mean(pleiades_img[3]))/np.std(pleiades_img[3])\n",
    "img_nir = (pleiades_img[0]-np.mean(pleiades_img[0]))/np.std(pleiades_img[0])"
   ]
  },
  {
   "cell_type": "code",
   "execution_count": 14,
   "metadata": {},
   "outputs": [],
   "source": [
    "map_test = coral_map([img_blue,img_green,img_red,img_nir], map_img=img_rugo_zones, size_img=5)"
   ]
  },
  {
   "cell_type": "code",
   "execution_count": 15,
   "metadata": {},
   "outputs": [],
   "source": [
    "classified_pixels = np.where(img_rugo_zones>0)"
   ]
  },
  {
   "cell_type": "code",
   "execution_count": 16,
   "metadata": {},
   "outputs": [],
   "source": [
    "random.seed(0)\n",
    "size_subset = len(classified_pixels[0][:len(classified_pixels[0])//2])\n",
    "index_combination = list(np.array(classified_pixels).T)\n",
    "random_train_test = random.sample(index_combination,size_subset)\n",
    "training_set_indexes_pb = random_train_test[:size_subset//5]\n",
    "testing_set_indexes_pb = random_train_test[size_subset//5:]"
   ]
  },
  {
   "cell_type": "code",
   "execution_count": 17,
   "metadata": {},
   "outputs": [
    {
     "name": "stdout",
     "output_type": "stream",
     "text": [
      "221534\n"
     ]
    }
   ],
   "source": [
    "print(size_subset)"
   ]
  },
  {
   "cell_type": "code",
   "execution_count": 18,
   "metadata": {},
   "outputs": [
    {
     "name": "stdout",
     "output_type": "stream",
     "text": [
      "Creating the labels for each superpixel...\n",
      "Creating the features for each superpixel...\n"
     ]
    },
    {
     "name": "stderr",
     "output_type": "stream",
     "text": [
      "C:\\Users\\tnguyen001\\Documents\\GitHub\\coral_mapping\\clean\\coral_mapper.py:96: UserWarning: The training set does not contain all the classes. Errors may occur.\n",
      "  warnings.warn(\"The training set does not contain all the classes. Errors may occur.\")\n"
     ]
    },
    {
     "name": "stdout",
     "output_type": "stream",
     "text": [
      "Training the Random Forest classifier...\n",
      "Validation accuracy: 0.9751901505405466\n",
      "Wall time: 2min 8s\n"
     ]
    }
   ],
   "source": [
    "%%time\n",
    "map_test.train_pixelbased_rf(training_set_indexes_pb, testing_set_indexes_pb, undersampling=0)"
   ]
  },
  {
   "cell_type": "code",
   "execution_count": 19,
   "metadata": {},
   "outputs": [
    {
     "name": "stdout",
     "output_type": "stream",
     "text": [
      "Wall time: 12.7 s\n"
     ]
    }
   ],
   "source": [
    "%%time\n",
    "map_test.predict_map_pixelbased_rf()"
   ]
  },
  {
   "cell_type": "code",
   "execution_count": 20,
   "metadata": {},
   "outputs": [
    {
     "data": {
      "text/plain": [
       "0.8626865671641791"
      ]
     },
     "execution_count": 20,
     "metadata": {},
     "output_type": "execute_result"
    }
   ],
   "source": [
    "predicted_map_pixelbased_rf_classes = np.argmax(map_test.predicted_map_pb_rf,axis=2)+1\n",
    "score_map(img_rugo_zones,predicted_map_pixelbased_rf_classes,[0,4,5], map_test.segments, training_set_indexes_pb, [], size_superpixel=5)"
   ]
  },
  {
   "cell_type": "code",
   "execution_count": 21,
   "metadata": {},
   "outputs": [
    {
     "data": {
      "image/png": "[encoded data removed]",
      "text/plain": [
       "<Figure size 432x288 with 1 Axes>"
      ]
     },
     "metadata": {
      "needs_background": "light"
     },
     "output_type": "display_data"
    }
   ],
   "source": [
    "plt.imshow(predicted_map_pixelbased_rf_classes, interpolation='None', cmap='tab20c_r')\n",
    "plt.show()"
   ]
  },
  {
   "cell_type": "code",
   "execution_count": 22,
   "metadata": {},
   "outputs": [],
   "source": [
    "np.save('data/prediction_pb_10m.npy', predicted_map_pixelbased_rf_classes)"
   ]
  },
  {
   "cell_type": "code",
   "execution_count": 23,
   "metadata": {},
   "outputs": [],
   "source": [
    "from skimage.segmentation import felzenszwalb"
   ]
  },
  {
   "cell_type": "code",
   "execution_count": 24,
   "metadata": {
    "scrolled": true
   },
   "outputs": [],
   "source": [
    "img_rgb_without_pb = np.dstack([img_blue,img_green,img_red])\n",
    "img_rgb_with_pb = np.dstack([img_blue, img_green, img_red, predicted_map_pixelbased_rf_classes])"
   ]
  },
  {
   "cell_type": "code",
   "execution_count": 25,
   "metadata": {},
   "outputs": [],
   "source": [
    "img_rgb_with_pb = np.copy(img_rgb_without_pb)\n",
    "for i in np.unique(predicted_map_pixelbased_rf_classes):\n",
    "    temp_array_class = np.zeros(np.shape(predicted_map_pixelbased_rf_classes))\n",
    "    temp_array_class[predicted_map_pixelbased_rf_classes==i] = 1\n",
    "    img_rgb_with_pb = np.dstack([img_rgb_with_pb, temp_array_class])"
   ]
  },
  {
   "cell_type": "code",
   "execution_count": 26,
   "metadata": {},
   "outputs": [
    {
     "name": "stderr",
     "output_type": "stream",
     "text": [
      "<ipython-input-26-06dae735733f>:1: RuntimeWarning: Got image with third dimension of 15. This image will be interpreted as a multichannel 2d image, which may not be intended.\n",
      "  segments = felzenszwalb(img_rgb_with_pb, scale=1.5, sigma=1., min_size=50)\n"
     ]
    }
   ],
   "source": [
    "segments = felzenszwalb(img_rgb_with_pb, scale=1.5, sigma=1., min_size=50)"
   ]
  },
  {
   "cell_type": "code",
   "execution_count": 27,
   "metadata": {},
   "outputs": [],
   "source": [
    "map_test.segments = segments"
   ]
  },
  {
   "cell_type": "code",
   "execution_count": 28,
   "metadata": {},
   "outputs": [],
   "source": [
    "map_test.smooth_pb_rf()"
   ]
  },
  {
   "cell_type": "code",
   "execution_count": 29,
   "metadata": {},
   "outputs": [],
   "source": [
    "map_test.smoothed_map_pb_rf = map_test.smoothed_map_pb_rf+1"
   ]
  },
  {
   "cell_type": "code",
   "execution_count": 30,
   "metadata": {},
   "outputs": [],
   "source": [
    "smooth_map = np.copy(map_test.smoothed_map_pb_rf)"
   ]
  },
  {
   "cell_type": "code",
   "execution_count": 31,
   "metadata": {},
   "outputs": [
    {
     "data": {
      "image/png": "[encoded data removed]",
      "text/plain": [
       "<Figure size 432x288 with 1 Axes>"
      ]
     },
     "metadata": {
      "needs_background": "light"
     },
     "output_type": "display_data"
    }
   ],
   "source": [
    "plt.imshow(smooth_map, interpolation='None', cmap='tab20c_r')\n",
    "plt.show()"
   ]
  },
  {
   "cell_type": "code",
   "execution_count": 32,
   "metadata": {},
   "outputs": [
    {
     "name": "stdout",
     "output_type": "stream",
     "text": [
      "0.7761194029850746\n"
     ]
    }
   ],
   "source": [
    "score_map_smooth = score_map(img_rugo_zones, smooth_map,[0,4,5], map_test.segments, training_set_indexes_pb, [], size_superpixel=5)\n",
    "print(score_map_smooth)"
   ]
  },
  {
   "cell_type": "code",
   "execution_count": 33,
   "metadata": {},
   "outputs": [],
   "source": [
    "np.save('data/smooth_map_10m.npy',smooth_map)"
   ]
  },
  {
   "cell_type": "code",
   "execution_count": 34,
   "metadata": {},
   "outputs": [
    {
     "data": {
      "image/png": "[encoded data removed]",
      "text/plain": [
       "<Figure size 432x288 with 1 Axes>"
      ]
     },
     "metadata": {
      "needs_background": "light"
     },
     "output_type": "display_data"
    }
   ],
   "source": [
    "mask = np.zeros(np.shape(smooth_map))\n",
    "mask[smooth_map == 5] = 1\n",
    "plt.imshow(mask, interpolation='None')\n",
    "plt.show()"
   ]
  },
  {
   "cell_type": "markdown",
   "metadata": {},
   "source": [
    "# Post processing"
   ]
  },
  {
   "cell_type": "code",
   "execution_count": 34,
   "metadata": {},
   "outputs": [],
   "source": [
    "list_scores_post_processing = []\n",
    "list_thresholds_post_processing = []"
   ]
  },
  {
   "cell_type": "code",
   "execution_count": 17,
   "metadata": {},
   "outputs": [],
   "source": [
    "predicted_map_pixelbased_rf_classes = np.load('data/prediction_pb_10m.npy')\n",
    "smooth_map = np.load('data/smooth_map_10m.npy')"
   ]
  },
  {
   "cell_type": "code",
   "execution_count": 35,
   "metadata": {},
   "outputs": [],
   "source": [
    "import segments_regressor\n",
    "from skimage.segmentation import find_boundaries"
   ]
  },
  {
   "cell_type": "code",
   "execution_count": 36,
   "metadata": {
    "scrolled": true
   },
   "outputs": [
    {
     "data": {
      "text/plain": [
       "array([4, 4, 4, ..., 4, 4, 4], dtype=int64)"
      ]
     },
     "execution_count": 36,
     "metadata": {},
     "output_type": "execute_result"
    }
   ],
   "source": [
    "segments_classes = np.copy(map_test.y_segments_pb_rf_classes)\n",
    "segments_classes"
   ]
  },
  {
   "cell_type": "code",
   "execution_count": 37,
   "metadata": {},
   "outputs": [],
   "source": [
    "boundaries = find_boundaries(map_test.segments)\n",
    "adjacent_segments,_ = segments_regressor.find_adjacent_segments(map_test.segments, boundaries)"
   ]
  },
  {
   "cell_type": "code",
   "execution_count": 38,
   "metadata": {},
   "outputs": [
    {
     "name": "stdout",
     "output_type": "stream",
     "text": [
      "Wall time: 69 ms\n"
     ]
    }
   ],
   "source": [
    "%%time\n",
    "list_wrong_neighbours = []\n",
    "for i in range(len(adjacent_segments)):\n",
    "    wrong_neighbours = 0\n",
    "    s = adjacent_segments[i]\n",
    "    s_class = segments_classes[i]\n",
    "    if s_class > 0:\n",
    "        s_connectivity = connectivity[s_class]\n",
    "        for j in s:\n",
    "            if segments_classes[j]>0:\n",
    "                if s_connectivity[segments_classes[j]] == 0 :\n",
    "                    wrong_neighbours += 1\n",
    "    list_wrong_neighbours.append(wrong_neighbours/len(s))"
   ]
  },
  {
   "cell_type": "code",
   "execution_count": 39,
   "metadata": {},
   "outputs": [
    {
     "name": "stdout",
     "output_type": "stream",
     "text": [
      "295\n"
     ]
    }
   ],
   "source": [
    "threshold = 0.8\n",
    "nb_wrong_segments=0\n",
    "for i, value in enumerate(list_wrong_neighbours):\n",
    "    if value>0:\n",
    "        #assign the majority of neighbours to this segment\n",
    "        nb_wrong_segments+=1\n",
    "        lst_temp = [segments_classes[j] for j in adjacent_segments[i]]\n",
    "        majority_neighbours = max(set(lst_temp), key=lst_temp.count)\n",
    "        if majority_neighbours/len(lst_temp) > threshold:\n",
    "            segments_classes[i] = majority_neighbours\n",
    "print(nb_wrong_segments)"
   ]
  },
  {
   "cell_type": "code",
   "execution_count": 247,
   "metadata": {},
   "outputs": [
    {
     "name": "stdout",
     "output_type": "stream",
     "text": [
      "314\n"
     ]
    }
   ],
   "source": [
    "# applying the above and recomputing list_wrong_neighbours gives the following nb of wrong segments:\n",
    "nb_wrong_segments=0\n",
    "for i, value in enumerate(list_wrong_neighbours):\n",
    "    if value>0:\n",
    "        nb_wrong_segments+=1\n",
    "print(nb_wrong_segments)"
   ]
  },
  {
   "cell_type": "code",
   "execution_count": 40,
   "metadata": {},
   "outputs": [],
   "source": [
    "new_map = np.copy(segments)\n",
    "for i in range(np.max(segments)+1):\n",
    "    new_map[segments==i] = segments_classes[i]+1"
   ]
  },
  {
   "cell_type": "code",
   "execution_count": 41,
   "metadata": {},
   "outputs": [
    {
     "data": {
      "text/plain": [
       "0.7731343283582089"
      ]
     },
     "execution_count": 41,
     "metadata": {},
     "output_type": "execute_result"
    }
   ],
   "source": [
    "score_pp = score_map(img_rugo_zones,new_map,[0,4,5], map_test.segments, training_set_indexes_pb, [], size_superpixel=5)\n",
    "score_pp"
   ]
  },
  {
   "cell_type": "code",
   "execution_count": 250,
   "metadata": {},
   "outputs": [],
   "source": [
    "list_scores_post_processing.append(score_pp)\n",
    "list_thresholds_post_processing.append(threshold)"
   ]
  },
  {
   "cell_type": "code",
   "execution_count": 276,
   "metadata": {},
   "outputs": [
    {
     "data": {
      "image/png": "[encoded data removed]",
      "text/plain": [
       "<Figure size 432x288 with 1 Axes>"
      ]
     },
     "metadata": {
      "needs_background": "light"
     },
     "output_type": "display_data"
    }
   ],
   "source": [
    "plt.plot(list_thresholds_post_processing, list_scores_post_processing, label='Post-processing')\n",
    "plt.plot([0.,1.], [score_map_smooth, score_map_smooth], '--r', label='Smoothed map (no post-processing)')\n",
    "plt.title('Score of the post-processed map for different threshold replacement values', size=11)\n",
    "plt.xlabel('Threshold value')\n",
    "plt.ylabel('Score')\n",
    "plt.legend()\n",
    "plt.savefig('post_proc_thresholds.png', dpi=200)\n",
    "plt.show()"
   ]
  },
  {
   "cell_type": "code",
   "execution_count": 42,
   "metadata": {},
   "outputs": [
    {
     "data": {
      "text/plain": [
       "array([ 1,  2,  3,  4,  5,  6,  7,  9, 10, 11, 12], dtype=int64)"
      ]
     },
     "execution_count": 42,
     "metadata": {},
     "output_type": "execute_result"
    }
   ],
   "source": [
    "np.unique(new_map)"
   ]
  },
  {
   "cell_type": "code",
   "execution_count": 43,
   "metadata": {},
   "outputs": [
    {
     "data": {
      "image/png": "[encoded data removed]",
      "text/plain": [
       "<Figure size 432x432 with 1 Axes>"
      ]
     },
     "metadata": {
      "needs_background": "light"
     },
     "output_type": "display_data"
    }
   ],
   "source": [
    "plt.figure(figsize=(6,6))\n",
    "plt.imshow(new_map, interpolation='None', cmap='tab20c_r')\n",
    "plt.show()"
   ]
  },
  {
   "cell_type": "code",
   "execution_count": 73,
   "metadata": {},
   "outputs": [
    {
     "data": {
      "image/png": "[encoded data removed]",
      "text/plain": [
       "<Figure size 432x432 with 1 Axes>"
      ]
     },
     "metadata": {
      "needs_background": "light"
     },
     "output_type": "display_data"
    }
   ],
   "source": [
    "plt.figure(figsize=(6,6))\n",
    "plt.imshow(smooth_map, interpolation='None', cmap='tab20c_r')\n",
    "plt.show()"
   ]
  },
  {
   "cell_type": "markdown",
   "metadata": {},
   "source": [
    "# Create the map of wrong segments"
   ]
  },
  {
   "cell_type": "code",
   "execution_count": 61,
   "metadata": {},
   "outputs": [],
   "source": [
    "map_wrong_segments = np.ones(np.shape(segments))\n",
    "for i, value in enumerate(list_wrong_neighbours):\n",
    "    if value>0:\n",
    "        map_wrong_segments[segments==i] = 0"
   ]
  },
  {
   "cell_type": "code",
   "execution_count": 63,
   "metadata": {},
   "outputs": [
    {
     "data": {
      "image/png": "[encoded data removed]",
      "text/plain": [
       "<Figure size 432x288 with 1 Axes>"
      ]
     },
     "metadata": {
      "needs_background": "light"
     },
     "output_type": "display_data"
    }
   ],
   "source": [
    "plt.imshow(map_wrong_segments, interpolation='None')\n",
    "plt.show()"
   ]
  },
  {
   "cell_type": "markdown",
   "metadata": {},
   "source": [
    "# Export the post-processed map as shp"
   ]
  },
  {
   "cell_type": "code",
   "execution_count": 42,
   "metadata": {},
   "outputs": [
    {
     "name": "stderr",
     "output_type": "stream",
     "text": [
      "C:\\Users\\tnguyen001\\AppData\\Roaming\\Python\\Python38\\site-packages\\geopandas\\_compat.py:124: UserWarning: The Shapely GEOS version (3.11.3-CAPI-1.17.3) is incompatible with the GEOS version PyGEOS was compiled with (3.10.4-CAPI-1.16.2). Conversions between both will be slow.\n",
      "  warnings.warn(\n",
      "<ipython-input-42-c54fc2603a60>:3: DeprecationWarning: Shapely 2.0 is installed, but because PyGEOS is also installed, GeoPandas still uses PyGEOS by default. However, starting with version 0.14, the default will switch to Shapely. To force to use Shapely 2.0 now, you can either uninstall PyGEOS or set the environment variable USE_PYGEOS=0. You can do this before starting the Python process, or in your code before importing geopandas:\n",
      "\n",
      "import os\n",
      "os.environ['USE_PYGEOS'] = '0'\n",
      "import geopandas\n",
      "\n",
      "In the next release, GeoPandas will switch to using Shapely by default, even if PyGEOS is installed. If you only have PyGEOS installed to get speed-ups, this switch should be smooth. However, if you are using PyGEOS directly (calling PyGEOS functions on geometries from GeoPandas), this will then stop working and you are encouraged to migrate from PyGEOS to Shapely 2.0 (https://shapely.readthedocs.io/en/latest/migration_pygeos.html).\n",
      "  import geopandas as gpd\n"
     ]
    }
   ],
   "source": [
    "import rasterio as rio\n",
    "from rasterio.warp import calculate_default_transform, reproject, Resampling\n",
    "import geopandas as gpd\n",
    "from shapely.geometry import Point"
   ]
  },
  {
   "cell_type": "code",
   "execution_count": 43,
   "metadata": {},
   "outputs": [],
   "source": [
    "filenameraster='../../../Maupiti/Data/New_classification/downsampled_image_pleiades_10m.tif'\n",
    "\n",
    "adr=filenameraster[:-4]\n",
    "\n",
    "src = rio.open(filenameraster)\n",
    "X0, Y0, XF, YF=src.bounds\n",
    "dx=(XF-X0)/src.width\n",
    "dy=(YF-Y0)/src.height\n",
    "x=np.arange(X0, XF, dx)\n",
    "y=np.arange(Y0, YF, dy)\n",
    "\n",
    "raster_array_original = src.read()\n",
    "\n",
    "img_final = raster_array_original[:,150:1050,250:1000]"
   ]
  },
  {
   "cell_type": "code",
   "execution_count": 44,
   "metadata": {},
   "outputs": [
    {
     "data": {
      "text/plain": [
       "CRS.from_epsg(32731)"
      ]
     },
     "execution_count": 44,
     "metadata": {},
     "output_type": "execute_result"
    }
   ],
   "source": [
    "src.crs"
   ]
  },
  {
   "cell_type": "code",
   "execution_count": 45,
   "metadata": {},
   "outputs": [
    {
     "data": {
      "text/plain": [
       "<matplotlib.image.AxesImage at 0x1e207d370a0>"
      ]
     },
     "execution_count": 45,
     "metadata": {},
     "output_type": "execute_result"
    },
    {
     "data": {
      "image/png": "[encoded data removed]",
      "text/plain": [
       "<Figure size 432x288 with 1 Axes>"
      ]
     },
     "metadata": {
      "needs_background": "light"
     },
     "output_type": "display_data"
    }
   ],
   "source": [
    "plt.imshow(img_final[0])"
   ]
  },
  {
   "cell_type": "code",
   "execution_count": 66,
   "metadata": {},
   "outputs": [],
   "source": [
    "map_to_export = np.ones(np.shape(raster_array_original[0]))\n",
    "#map_to_export = 5*np.ones(np.shape(raster_array_original[0]))\n",
    "#map_to_export[150:1050,250:1000] = np.flip(new_map)\n",
    "#map_to_export[150:1050,250:1000] = np.flip(smooth_map)\n",
    "map_to_export[150:1050,250:1000] = np.flip(map_wrong_segments)\n",
    "\n",
    "x = np.arange(X0, XF, dx)\n",
    "y = np.arange(Y0, YF, dy)"
   ]
  },
  {
   "cell_type": "code",
   "execution_count": 68,
   "metadata": {},
   "outputs": [
    {
     "data": {
      "text/plain": [
       "<matplotlib.image.AxesImage at 0x1e2081c22b0>"
      ]
     },
     "execution_count": 68,
     "metadata": {},
     "output_type": "execute_result"
    },
    {
     "data": {
      "image/png": "[encoded data removed]",
      "text/plain": [
       "<Figure size 432x288 with 1 Axes>"
      ]
     },
     "metadata": {
      "needs_background": "light"
     },
     "output_type": "display_data"
    }
   ],
   "source": [
    "plt.imshow(map_to_export, interpolation='None')"
   ]
  },
  {
   "cell_type": "code",
   "execution_count": 55,
   "metadata": {},
   "outputs": [
    {
     "data": {
      "image/png": "[encoded data removed]",
      "text/plain": [
       "<Figure size 432x288 with 1 Axes>"
      ]
     },
     "metadata": {
      "needs_background": "light"
     },
     "output_type": "display_data"
    }
   ],
   "source": [
    "plt.imshow(raster_array_original[0])\n",
    "plt.show()"
   ]
  },
  {
   "cell_type": "code",
   "execution_count": 69,
   "metadata": {},
   "outputs": [],
   "source": [
    "x_flat = np.tile(x, len(y))  # Repeat x for each row in y\n",
    "y_flat = np.repeat(y, len(x))  # Repeat each element in y for every column in x\n",
    "#img_rugo_flat = predicted_map_pixelbased_rf_classes.flatten()\n",
    "img_rugo_flat = np.fliplr(np.flip(map_to_export)).flatten()"
   ]
  },
  {
   "cell_type": "code",
   "execution_count": 57,
   "metadata": {},
   "outputs": [],
   "source": [
    "original_dict = {\n",
    "    'BackReefSlope': 1, 'InnerReef': 2, 'Lagoon': 3, 'Land': 4,\n",
    "    'Ocean': 5, 'OuterReefFlat': 6, 'PatchReef': 7, 'ReefCrest': 8,\n",
    "    'ReefFront': 9, 'ShallowLagoon': 10, 'ShoreReef': 11, 'Unspecified': 12\n",
    "}\n",
    "reverse_dict = {v: k for k, v in original_dict.items()}\n",
    "\n",
    "rugo_flat_strings = np.vectorize(reverse_dict.get)(img_rugo_flat)"
   ]
  },
  {
   "cell_type": "code",
   "execution_count": 70,
   "metadata": {},
   "outputs": [],
   "source": [
    "original_dict = {\n",
    "    'Correct segment': 1, 'Incorrect segment': 0\n",
    "}\n",
    "reverse_dict = {v: k for k, v in original_dict.items()}\n",
    "\n",
    "rugo_flat_strings = np.vectorize(reverse_dict.get)(img_rugo_flat)"
   ]
  },
  {
   "cell_type": "code",
   "execution_count": 71,
   "metadata": {},
   "outputs": [],
   "source": [
    "# Create a dataframe\n",
    "data_to_export = pd.DataFrame({'X': x_flat, 'Y': y_flat, 'Value': rugo_flat_strings})"
   ]
  },
  {
   "cell_type": "code",
   "execution_count": 72,
   "metadata": {},
   "outputs": [],
   "source": [
    "gdf = gpd.GeoDataFrame(data_to_export, geometry=gpd.points_from_xy(data_to_export.X, data_to_export.Y))\n",
    "#gdf.set_crs(epsg=32705, inplace=True) \n",
    "gdf.set_crs(epsg=32731, inplace=True) \n",
    "\n",
    "# Save to a shapefile\n",
    "#output_shapefile = 'outputs shp/output_postprocessing_5m.shp'\n",
    "output_shapefile = 'outputs shp/output_wrong_segments_5m.shp'\n",
    "gdf.to_file(output_shapefile)"
   ]
  },
  {
   "cell_type": "code",
   "execution_count": null,
   "metadata": {},
   "outputs": [],
   "source": []
  }
 ],
 "metadata": {
  "kernelspec": {
   "display_name": "Python 3",
   "language": "python",
   "name": "python3"
  },
  "language_info": {
   "codemirror_mode": {
    "name": "ipython",
    "version": 3
   },
   "file_extension": ".py",
   "mimetype": "text/x-python",
   "name": "python",
   "nbconvert_exporter": "python",
   "pygments_lexer": "ipython3",
   "version": "3.8.5"
  }
 },
 "nbformat": 4,
 "nbformat_minor": 4
}
