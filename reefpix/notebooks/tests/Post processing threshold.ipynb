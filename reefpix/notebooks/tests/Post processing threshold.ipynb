{
 "cells": [
  {
   "cell_type": "markdown",
   "metadata": {},
   "source": [
    "# Introduction\n",
    "\n",
    "In this notebook, we present how different values of the post-processing threshold affects the results of the model. In this notebook, let $t \\in [0, 1]$ be the threshold value.\n",
    "\n",
    "As a reminder, during the post-processing step, we select segments that exhibit a high degree of non-compliance with the connectivity table. A segment is flagged for correction if at least a $t$ proportion of its border pixels are adjacent to neighboring segments that are classified into disallowed classes according to the connectivity table. For these selected segments, we examine the neighboring segments; if all neighboring segments belong to the same permissible class, we reassign the segment to this class, thereby aligning the segment with its spatial context and expected adjacency.\n",
    "\n",
    "The tests are made on the 10 m resolution image. "
   ]
  },
  {
   "cell_type": "markdown",
   "metadata": {},
   "source": [
    "# Loading the packages and data"
   ]
  },
  {
   "cell_type": "code",
   "execution_count": 1,
   "metadata": {},
   "outputs": [],
   "source": [
    "%load_ext autoreload\n",
    "%autoreload 2"
   ]
  },
  {
   "cell_type": "code",
   "execution_count": 2,
   "metadata": {},
   "outputs": [],
   "source": [
    "import numpy as np\n",
    "import pandas as pd\n",
    "import importlib\n",
    "import matplotlib.pyplot as plt\n",
    "import itertools\n",
    "import random\n",
    "import time"
   ]
  },
  {
   "cell_type": "code",
   "execution_count": 3,
   "metadata": {},
   "outputs": [],
   "source": [
    "from coral_mapper_functions import score_map\n",
    "from coral_mapper import coral_map"
   ]
  },
  {
   "cell_type": "markdown",
   "metadata": {},
   "source": [
    "## Loading the connectivity table"
   ]
  },
  {
   "cell_type": "code",
   "execution_count": 4,
   "metadata": {},
   "outputs": [],
   "source": [
    "connectivity = pd.read_pickle('connectivity_table_maupiti')"
   ]
  },
  {
   "cell_type": "code",
   "execution_count": 5,
   "metadata": {},
   "outputs": [
    {
     "data": {
      "text/html": [
       "<div>\n",
       "<style scoped>\n",
       "    .dataframe tbody tr th:only-of-type {\n",
       "        vertical-align: middle;\n",
       "    }\n",
       "\n",
       "    .dataframe tbody tr th {\n",
       "        vertical-align: top;\n",
       "    }\n",
       "\n",
       "    .dataframe thead th {\n",
       "        text-align: right;\n",
       "    }\n",
       "</style>\n",
       "<table border=\"1\" class=\"dataframe\">\n",
       "  <thead>\n",
       "    <tr style=\"text-align: right;\">\n",
       "      <th></th>\n",
       "      <th>5</th>\n",
       "      <th>9</th>\n",
       "      <th>8</th>\n",
       "      <th>6</th>\n",
       "      <th>2</th>\n",
       "      <th>1</th>\n",
       "      <th>10</th>\n",
       "      <th>3</th>\n",
       "      <th>7</th>\n",
       "      <th>11</th>\n",
       "      <th>4</th>\n",
       "    </tr>\n",
       "    <tr>\n",
       "      <th>Unnamed: 0</th>\n",
       "      <th></th>\n",
       "      <th></th>\n",
       "      <th></th>\n",
       "      <th></th>\n",
       "      <th></th>\n",
       "      <th></th>\n",
       "      <th></th>\n",
       "      <th></th>\n",
       "      <th></th>\n",
       "      <th></th>\n",
       "      <th></th>\n",
       "    </tr>\n",
       "  </thead>\n",
       "  <tbody>\n",
       "    <tr>\n",
       "      <th>5</th>\n",
       "      <td>NaN</td>\n",
       "      <td>0.0</td>\n",
       "      <td>0.0</td>\n",
       "      <td>2.0</td>\n",
       "      <td>1.0</td>\n",
       "      <td>1.0</td>\n",
       "      <td>1.0</td>\n",
       "      <td>2.0</td>\n",
       "      <td>1.0</td>\n",
       "      <td>1.0</td>\n",
       "      <td>1.0</td>\n",
       "    </tr>\n",
       "    <tr>\n",
       "      <th>9</th>\n",
       "      <td>0.0</td>\n",
       "      <td>NaN</td>\n",
       "      <td>0.0</td>\n",
       "      <td>2.0</td>\n",
       "      <td>1.0</td>\n",
       "      <td>1.0</td>\n",
       "      <td>1.0</td>\n",
       "      <td>1.0</td>\n",
       "      <td>1.0</td>\n",
       "      <td>1.0</td>\n",
       "      <td>1.0</td>\n",
       "    </tr>\n",
       "    <tr>\n",
       "      <th>8</th>\n",
       "      <td>0.0</td>\n",
       "      <td>0.0</td>\n",
       "      <td>NaN</td>\n",
       "      <td>0.0</td>\n",
       "      <td>2.0</td>\n",
       "      <td>1.0</td>\n",
       "      <td>1.0</td>\n",
       "      <td>1.0</td>\n",
       "      <td>1.0</td>\n",
       "      <td>1.0</td>\n",
       "      <td>1.0</td>\n",
       "    </tr>\n",
       "    <tr>\n",
       "      <th>6</th>\n",
       "      <td>2.0</td>\n",
       "      <td>2.0</td>\n",
       "      <td>0.0</td>\n",
       "      <td>NaN</td>\n",
       "      <td>0.0</td>\n",
       "      <td>2.0</td>\n",
       "      <td>1.0</td>\n",
       "      <td>1.0</td>\n",
       "      <td>1.0</td>\n",
       "      <td>1.0</td>\n",
       "      <td>1.0</td>\n",
       "    </tr>\n",
       "    <tr>\n",
       "      <th>2</th>\n",
       "      <td>1.0</td>\n",
       "      <td>1.0</td>\n",
       "      <td>2.0</td>\n",
       "      <td>0.0</td>\n",
       "      <td>NaN</td>\n",
       "      <td>0.0</td>\n",
       "      <td>2.0</td>\n",
       "      <td>1.0</td>\n",
       "      <td>1.0</td>\n",
       "      <td>1.0</td>\n",
       "      <td>2.0</td>\n",
       "    </tr>\n",
       "    <tr>\n",
       "      <th>1</th>\n",
       "      <td>1.0</td>\n",
       "      <td>1.0</td>\n",
       "      <td>1.0</td>\n",
       "      <td>2.0</td>\n",
       "      <td>0.0</td>\n",
       "      <td>NaN</td>\n",
       "      <td>1.0</td>\n",
       "      <td>2.0</td>\n",
       "      <td>1.0</td>\n",
       "      <td>1.0</td>\n",
       "      <td>2.0</td>\n",
       "    </tr>\n",
       "    <tr>\n",
       "      <th>10</th>\n",
       "      <td>1.0</td>\n",
       "      <td>1.0</td>\n",
       "      <td>1.0</td>\n",
       "      <td>1.0</td>\n",
       "      <td>2.0</td>\n",
       "      <td>1.0</td>\n",
       "      <td>NaN</td>\n",
       "      <td>0.0</td>\n",
       "      <td>0.0</td>\n",
       "      <td>0.0</td>\n",
       "      <td>2.0</td>\n",
       "    </tr>\n",
       "    <tr>\n",
       "      <th>3</th>\n",
       "      <td>2.0</td>\n",
       "      <td>1.0</td>\n",
       "      <td>1.0</td>\n",
       "      <td>1.0</td>\n",
       "      <td>1.0</td>\n",
       "      <td>2.0</td>\n",
       "      <td>0.0</td>\n",
       "      <td>NaN</td>\n",
       "      <td>0.0</td>\n",
       "      <td>0.0</td>\n",
       "      <td>2.0</td>\n",
       "    </tr>\n",
       "    <tr>\n",
       "      <th>7</th>\n",
       "      <td>1.0</td>\n",
       "      <td>1.0</td>\n",
       "      <td>1.0</td>\n",
       "      <td>1.0</td>\n",
       "      <td>1.0</td>\n",
       "      <td>1.0</td>\n",
       "      <td>0.0</td>\n",
       "      <td>0.0</td>\n",
       "      <td>NaN</td>\n",
       "      <td>0.0</td>\n",
       "      <td>2.0</td>\n",
       "    </tr>\n",
       "    <tr>\n",
       "      <th>11</th>\n",
       "      <td>1.0</td>\n",
       "      <td>1.0</td>\n",
       "      <td>1.0</td>\n",
       "      <td>1.0</td>\n",
       "      <td>1.0</td>\n",
       "      <td>1.0</td>\n",
       "      <td>0.0</td>\n",
       "      <td>0.0</td>\n",
       "      <td>0.0</td>\n",
       "      <td>NaN</td>\n",
       "      <td>0.0</td>\n",
       "    </tr>\n",
       "    <tr>\n",
       "      <th>4</th>\n",
       "      <td>1.0</td>\n",
       "      <td>1.0</td>\n",
       "      <td>1.0</td>\n",
       "      <td>1.0</td>\n",
       "      <td>2.0</td>\n",
       "      <td>2.0</td>\n",
       "      <td>2.0</td>\n",
       "      <td>2.0</td>\n",
       "      <td>2.0</td>\n",
       "      <td>0.0</td>\n",
       "      <td>NaN</td>\n",
       "    </tr>\n",
       "  </tbody>\n",
       "</table>\n",
       "</div>"
      ],
      "text/plain": [
       "             5    9    8    6    2    1    10   3    7    11   4 \n",
       "Unnamed: 0                                                       \n",
       "5           NaN  0.0  0.0  2.0  1.0  1.0  1.0  2.0  1.0  1.0  1.0\n",
       "9           0.0  NaN  0.0  2.0  1.0  1.0  1.0  1.0  1.0  1.0  1.0\n",
       "8           0.0  0.0  NaN  0.0  2.0  1.0  1.0  1.0  1.0  1.0  1.0\n",
       "6           2.0  2.0  0.0  NaN  0.0  2.0  1.0  1.0  1.0  1.0  1.0\n",
       "2           1.0  1.0  2.0  0.0  NaN  0.0  2.0  1.0  1.0  1.0  2.0\n",
       "1           1.0  1.0  1.0  2.0  0.0  NaN  1.0  2.0  1.0  1.0  2.0\n",
       "10          1.0  1.0  1.0  1.0  2.0  1.0  NaN  0.0  0.0  0.0  2.0\n",
       "3           2.0  1.0  1.0  1.0  1.0  2.0  0.0  NaN  0.0  0.0  2.0\n",
       "7           1.0  1.0  1.0  1.0  1.0  1.0  0.0  0.0  NaN  0.0  2.0\n",
       "11          1.0  1.0  1.0  1.0  1.0  1.0  0.0  0.0  0.0  NaN  0.0\n",
       "4           1.0  1.0  1.0  1.0  2.0  2.0  2.0  2.0  2.0  0.0  NaN"
      ]
     },
     "execution_count": 5,
     "metadata": {},
     "output_type": "execute_result"
    }
   ],
   "source": [
    "connectivity"
   ]
  },
  {
   "cell_type": "markdown",
   "metadata": {},
   "source": [
    "## Loading the data"
   ]
  },
  {
   "cell_type": "code",
   "execution_count": 7,
   "metadata": {},
   "outputs": [],
   "source": [
    "img_rugo_zones = np.load('../v2/data/pleiades_map_types_10m.npy')\n",
    "pleiades_img = np.load('../v2/data/pleiades_ortho_10m.npy')"
   ]
  },
  {
   "cell_type": "code",
   "execution_count": 8,
   "metadata": {},
   "outputs": [],
   "source": [
    "img_blue = (pleiades_img[1]-np.mean(pleiades_img[1]))/np.std(pleiades_img[1])\n",
    "img_green = (pleiades_img[2]-np.mean(pleiades_img[2]))/np.std(pleiades_img[2])\n",
    "img_red = (pleiades_img[3]-np.mean(pleiades_img[3]))/np.std(pleiades_img[3])\n",
    "img_nir = (pleiades_img[0]-np.mean(pleiades_img[0]))/np.std(pleiades_img[0])"
   ]
  },
  {
   "cell_type": "markdown",
   "metadata": {},
   "source": [
    "# Trying different values of $t$\n",
    "\n",
    "We repeat 10 times:\n",
    "- Train the model once.\n",
    "- Make a prediction on the test set.\n",
    "- On this prediction, perform a post-processing with different values of $t$ (from 0.1 to 1. with a step of 0.05)"
   ]
  },
  {
   "cell_type": "code",
   "execution_count": 9,
   "metadata": {},
   "outputs": [],
   "source": [
    "classified_pixels = np.where(img_rugo_zones>0)\n",
    "size_subset = 250000\n",
    "index_combination = list(np.array(classified_pixels).T)"
   ]
  },
  {
   "cell_type": "code",
   "execution_count": 20,
   "metadata": {},
   "outputs": [
    {
     "name": "stderr",
     "output_type": "stream",
     "text": [
      "C:\\Users\\tnguyen001\\Documents\\GitHub\\coral_mapping\\clean\\coral_mapper.py:142: UserWarning: The training set does not contain all the classes. Errors may occur.\n",
      "  warnings.warn(\"The training set does not contain all the classes. Errors may occur.\")\n"
     ]
    },
    {
     "name": "stdout",
     "output_type": "stream",
     "text": [
      "Creating the labels for each superpixel...\n",
      "Creating the features for each superpixel...\n",
      "Training the Random Forest classifier...\n",
      "Validation accuracy: 0.970405\n"
     ]
    },
    {
     "name": "stderr",
     "output_type": "stream",
     "text": [
      "C:\\Users\\tnguyen001\\Documents\\GitHub\\coral_mapping\\clean\\coral_mapper.py:92: RuntimeWarning: Got image with third dimension of 4. This image will be interpreted as a multichannel 2d image, which may not be intended.\n",
      "  segments = felzenszwalb(img_for_segmentation,*args,**kwargs)\n",
      "C:\\Users\\tnguyen001\\Documents\\GitHub\\coral_mapping\\clean\\coral_mapper.py:142: UserWarning: The training set does not contain all the classes. Errors may occur.\n",
      "  warnings.warn(\"The training set does not contain all the classes. Errors may occur.\")\n"
     ]
    },
    {
     "name": "stdout",
     "output_type": "stream",
     "text": [
      "Creating the labels for each superpixel...\n",
      "Creating the features for each superpixel...\n",
      "Training the Random Forest classifier...\n",
      "Validation accuracy: 0.96992\n"
     ]
    },
    {
     "name": "stderr",
     "output_type": "stream",
     "text": [
      "C:\\Users\\tnguyen001\\Documents\\GitHub\\coral_mapping\\clean\\coral_mapper.py:92: RuntimeWarning: Got image with third dimension of 4. This image will be interpreted as a multichannel 2d image, which may not be intended.\n",
      "  segments = felzenszwalb(img_for_segmentation,*args,**kwargs)\n",
      "C:\\Users\\tnguyen001\\Documents\\GitHub\\coral_mapping\\clean\\coral_mapper.py:142: UserWarning: The training set does not contain all the classes. Errors may occur.\n",
      "  warnings.warn(\"The training set does not contain all the classes. Errors may occur.\")\n"
     ]
    },
    {
     "name": "stdout",
     "output_type": "stream",
     "text": [
      "Creating the labels for each superpixel...\n",
      "Creating the features for each superpixel...\n",
      "Training the Random Forest classifier...\n",
      "Validation accuracy: 0.97107\n"
     ]
    },
    {
     "name": "stderr",
     "output_type": "stream",
     "text": [
      "C:\\Users\\tnguyen001\\Documents\\GitHub\\coral_mapping\\clean\\coral_mapper.py:92: RuntimeWarning: Got image with third dimension of 4. This image will be interpreted as a multichannel 2d image, which may not be intended.\n",
      "  segments = felzenszwalb(img_for_segmentation,*args,**kwargs)\n",
      "C:\\Users\\tnguyen001\\Documents\\GitHub\\coral_mapping\\clean\\coral_mapper.py:142: UserWarning: The training set does not contain all the classes. Errors may occur.\n",
      "  warnings.warn(\"The training set does not contain all the classes. Errors may occur.\")\n"
     ]
    },
    {
     "name": "stdout",
     "output_type": "stream",
     "text": [
      "Creating the labels for each superpixel...\n",
      "Creating the features for each superpixel...\n",
      "Training the Random Forest classifier...\n",
      "Validation accuracy: 0.969975\n"
     ]
    },
    {
     "name": "stderr",
     "output_type": "stream",
     "text": [
      "C:\\Users\\tnguyen001\\Documents\\GitHub\\coral_mapping\\clean\\coral_mapper.py:92: RuntimeWarning: Got image with third dimension of 4. This image will be interpreted as a multichannel 2d image, which may not be intended.\n",
      "  segments = felzenszwalb(img_for_segmentation,*args,**kwargs)\n",
      "C:\\Users\\tnguyen001\\Documents\\GitHub\\coral_mapping\\clean\\coral_mapper.py:142: UserWarning: The training set does not contain all the classes. Errors may occur.\n",
      "  warnings.warn(\"The training set does not contain all the classes. Errors may occur.\")\n"
     ]
    },
    {
     "name": "stdout",
     "output_type": "stream",
     "text": [
      "Creating the labels for each superpixel...\n",
      "Creating the features for each superpixel...\n",
      "Training the Random Forest classifier...\n",
      "Validation accuracy: 0.970745\n"
     ]
    },
    {
     "name": "stderr",
     "output_type": "stream",
     "text": [
      "C:\\Users\\tnguyen001\\Documents\\GitHub\\coral_mapping\\clean\\coral_mapper.py:92: RuntimeWarning: Got image with third dimension of 4. This image will be interpreted as a multichannel 2d image, which may not be intended.\n",
      "  segments = felzenszwalb(img_for_segmentation,*args,**kwargs)\n",
      "C:\\Users\\tnguyen001\\Documents\\GitHub\\coral_mapping\\clean\\coral_mapper.py:142: UserWarning: The training set does not contain all the classes. Errors may occur.\n",
      "  warnings.warn(\"The training set does not contain all the classes. Errors may occur.\")\n"
     ]
    },
    {
     "name": "stdout",
     "output_type": "stream",
     "text": [
      "Creating the labels for each superpixel...\n",
      "Creating the features for each superpixel...\n",
      "Training the Random Forest classifier...\n",
      "Validation accuracy: 0.970385\n"
     ]
    },
    {
     "name": "stderr",
     "output_type": "stream",
     "text": [
      "C:\\Users\\tnguyen001\\Documents\\GitHub\\coral_mapping\\clean\\coral_mapper.py:92: RuntimeWarning: Got image with third dimension of 4. This image will be interpreted as a multichannel 2d image, which may not be intended.\n",
      "  segments = felzenszwalb(img_for_segmentation,*args,**kwargs)\n",
      "C:\\Users\\tnguyen001\\Documents\\GitHub\\coral_mapping\\clean\\coral_mapper.py:142: UserWarning: The training set does not contain all the classes. Errors may occur.\n",
      "  warnings.warn(\"The training set does not contain all the classes. Errors may occur.\")\n"
     ]
    },
    {
     "name": "stdout",
     "output_type": "stream",
     "text": [
      "Creating the labels for each superpixel...\n",
      "Creating the features for each superpixel...\n",
      "Training the Random Forest classifier...\n",
      "Validation accuracy: 0.970875\n"
     ]
    },
    {
     "name": "stderr",
     "output_type": "stream",
     "text": [
      "C:\\Users\\tnguyen001\\Documents\\GitHub\\coral_mapping\\clean\\coral_mapper.py:92: RuntimeWarning: Got image with third dimension of 4. This image will be interpreted as a multichannel 2d image, which may not be intended.\n",
      "  segments = felzenszwalb(img_for_segmentation,*args,**kwargs)\n",
      "C:\\Users\\tnguyen001\\Documents\\GitHub\\coral_mapping\\clean\\coral_mapper.py:142: UserWarning: The training set does not contain all the classes. Errors may occur.\n",
      "  warnings.warn(\"The training set does not contain all the classes. Errors may occur.\")\n"
     ]
    },
    {
     "name": "stdout",
     "output_type": "stream",
     "text": [
      "Creating the labels for each superpixel...\n",
      "Creating the features for each superpixel...\n",
      "Training the Random Forest classifier...\n",
      "Validation accuracy: 0.970265\n"
     ]
    },
    {
     "name": "stderr",
     "output_type": "stream",
     "text": [
      "C:\\Users\\tnguyen001\\Documents\\GitHub\\coral_mapping\\clean\\coral_mapper.py:92: RuntimeWarning: Got image with third dimension of 4. This image will be interpreted as a multichannel 2d image, which may not be intended.\n",
      "  segments = felzenszwalb(img_for_segmentation,*args,**kwargs)\n",
      "C:\\Users\\tnguyen001\\Documents\\GitHub\\coral_mapping\\clean\\coral_mapper.py:142: UserWarning: The training set does not contain all the classes. Errors may occur.\n",
      "  warnings.warn(\"The training set does not contain all the classes. Errors may occur.\")\n"
     ]
    },
    {
     "name": "stdout",
     "output_type": "stream",
     "text": [
      "Creating the labels for each superpixel...\n",
      "Creating the features for each superpixel...\n",
      "Training the Random Forest classifier...\n",
      "Validation accuracy: 0.97026\n"
     ]
    },
    {
     "name": "stderr",
     "output_type": "stream",
     "text": [
      "C:\\Users\\tnguyen001\\Documents\\GitHub\\coral_mapping\\clean\\coral_mapper.py:92: RuntimeWarning: Got image with third dimension of 4. This image will be interpreted as a multichannel 2d image, which may not be intended.\n",
      "  segments = felzenszwalb(img_for_segmentation,*args,**kwargs)\n",
      "C:\\Users\\tnguyen001\\Documents\\GitHub\\coral_mapping\\clean\\coral_mapper.py:142: UserWarning: The training set does not contain all the classes. Errors may occur.\n",
      "  warnings.warn(\"The training set does not contain all the classes. Errors may occur.\")\n"
     ]
    },
    {
     "name": "stdout",
     "output_type": "stream",
     "text": [
      "Creating the labels for each superpixel...\n",
      "Creating the features for each superpixel...\n",
      "Training the Random Forest classifier...\n",
      "Validation accuracy: 0.97082\n"
     ]
    },
    {
     "name": "stderr",
     "output_type": "stream",
     "text": [
      "C:\\Users\\tnguyen001\\Documents\\GitHub\\coral_mapping\\clean\\coral_mapper.py:92: RuntimeWarning: Got image with third dimension of 4. This image will be interpreted as a multichannel 2d image, which may not be intended.\n",
      "  segments = felzenszwalb(img_for_segmentation,*args,**kwargs)\n"
     ]
    },
    {
     "name": "stdout",
     "output_type": "stream",
     "text": [
      "Wall time: 41min 23s\n"
     ]
    }
   ],
   "source": [
    "%%time\n",
    "scores_repetition = []\n",
    "for seed in range(10):\n",
    "    \n",
    "    # train the model\n",
    "    map_test = coral_map([img_blue,img_green,img_red,img_nir], map_img=img_rugo_zones, size_img=3)\n",
    "    random.seed(seed*10)\n",
    "    \n",
    "    random_train_test = random.sample(index_combination,size_subset)\n",
    "    training_set_indexes_pb = random_train_test[:size_subset//5]\n",
    "    testing_set_indexes_pb = random_train_test[size_subset//5:]\n",
    "\n",
    "    map_test.train_pixelbased_rf(training_set_indexes_pb, testing_set_indexes_pb, undersampling=0)\n",
    "\n",
    "    map_test.predict_map_pixelbased_rf()\n",
    "\n",
    "    predicted_map_pixelbased_rf_classes = np.argmax(map_test.predicted_map_pb_rf,axis=2)+1\n",
    "    \n",
    "    #smoothing\n",
    "    map_test.segmentation(use_pb_pred=True, scale=1.5, sigma=1., min_size=20)\n",
    "    map_test.smooth_pb_rf()\n",
    "    map_test.smoothed_map_pb_rf = map_test.smoothed_map_pb_rf+1\n",
    "    smooth_map = np.copy(map_test.smoothed_map_pb_rf)\n",
    "    \n",
    "    scores_pp = []\n",
    "    #post-processing\n",
    "    for t in np.arange(0.1,1.05,0.05):\n",
    "        map_test.post_processing(connectivity, threshold_w=t, threshold_a=1.1)\n",
    "        score_pp = score_map(img_rugo_zones, map_test.post_processed_map, [0,4,5], map_test.segments, training_set_indexes_pb, [], size_superpixel=3)\n",
    "        scores_pp.append(score_pp)\n",
    "        \n",
    "    scores_repetition.append(scores_pp)"
   ]
  },
  {
   "cell_type": "markdown",
   "metadata": {},
   "source": [
    "# Display the results"
   ]
  },
  {
   "cell_type": "code",
   "execution_count": 35,
   "metadata": {
    "scrolled": true
   },
   "outputs": [
    {
     "data": {
      "text/plain": [
       "[[0.8466930036956799,\n",
       "  0.8466930036956799,\n",
       "  0.8477125015929655,\n",
       "  0.8508347139034026,\n",
       "  0.8532560214094559,\n",
       "  0.8535108958837773,\n",
       "  0.8553587358226074,\n",
       "  0.856569389575634,\n",
       "  0.8608385370205174,\n",
       "  0.8610296928762584,\n",
       "  0.8627500955779279,\n",
       "  0.860774818401937,\n",
       "  0.8609022556390977,\n",
       "  0.8603287880718746,\n",
       "  0.8614120045877406,\n",
       "  0.8614120045877406,\n",
       "  0.8614757232063209,\n",
       "  0.8614757232063209,\n",
       "  0.8616031604434816],\n",
       " [0.835615581817045,\n",
       "  0.8354279997498906,\n",
       "  0.8359907459513537,\n",
       "  0.8408053523416494,\n",
       "  0.8418057900331395,\n",
       "  0.8421184268117301,\n",
       "  0.8461201775776902,\n",
       "  0.8471831426248984,\n",
       "  0.8494966547864691,\n",
       "  0.8504970924779591,\n",
       "  0.8518101669480398,\n",
       "  0.8518101669480398,\n",
       "  0.8537485149753017,\n",
       "  0.8537485149753017,\n",
       "  0.8537485149753017,\n",
       "  0.8537485149753017,\n",
       "  0.8528106046395298,\n",
       "  0.8527480772838116,\n",
       "  0.852873131995248],\n",
       " [0.836963610277814,\n",
       "  0.836963610277814,\n",
       "  0.8392461197339246,\n",
       "  0.8417894874135907,\n",
       "  0.8421807747489239,\n",
       "  0.8432894221990348,\n",
       "  0.8432894221990348,\n",
       "  0.8446589278727011,\n",
       "  0.8464197208817008,\n",
       "  0.8458980044345898,\n",
       "  0.8472022955523673,\n",
       "  0.8480500847789226,\n",
       "  0.8496152341202556,\n",
       "  0.8494848050084779,\n",
       "  0.8494848050084779,\n",
       "  0.8494848050084779,\n",
       "  0.8501369505673666,\n",
       "  0.8501369505673666,\n",
       "  0.8508543106821442],\n",
       " [0.8378495960223742,\n",
       "  0.8366687383467992,\n",
       "  0.8404599129894345,\n",
       "  0.8426351771286513,\n",
       "  0.8427594779366065,\n",
       "  0.8443753884400249,\n",
       "  0.8447482908638906,\n",
       "  0.8472343070229956,\n",
       "  0.8501553760099441,\n",
       "  0.8495338719701678,\n",
       "  0.8513362336855189,\n",
       "  0.8513362336855189,\n",
       "  0.8523306401491609,\n",
       "  0.8523927905531385,\n",
       "  0.8523927905531385,\n",
       "  0.8523927905531385,\n",
       "  0.8525792417650715,\n",
       "  0.8525792417650715,\n",
       "  0.8533871970167806],\n",
       " [0.8400729705077531,\n",
       "  0.8400729705077531,\n",
       "  0.8409851018546671,\n",
       "  0.8425661295226513,\n",
       "  0.8442687747035573,\n",
       "  0.8446336272423229,\n",
       "  0.8460322286409243,\n",
       "  0.8463970811796899,\n",
       "  0.8490118577075099,\n",
       "  0.8492550927333536,\n",
       "  0.8511401641836425,\n",
       "  0.8527820006080875,\n",
       "  0.8528428093645485,\n",
       "  0.8527211918516266,\n",
       "  0.8527211918516266,\n",
       "  0.8527211918516266,\n",
       "  0.8519306780176346,\n",
       "  0.8519306780176346,\n",
       "  0.8519306780176346],\n",
       " [0.8465635628569596,\n",
       "  0.8465635628569596,\n",
       "  0.8475903227876532,\n",
       "  0.8503497401013925,\n",
       "  0.8508631200667394,\n",
       "  0.8508631200667394,\n",
       "  0.8516331900147597,\n",
       "  0.8535583648848104,\n",
       "  0.8541359173458256,\n",
       "  0.8538150548674838,\n",
       "  0.8566386446768914,\n",
       "  0.8577295771032536,\n",
       "  0.858884682025284,\n",
       "  0.8576654046075852,\n",
       "  0.8577295771032536,\n",
       "  0.8577295771032536,\n",
       "  0.8578579220945902,\n",
       "  0.8578579220945902,\n",
       "  0.8579220945902586],\n",
       " [0.8230474428439276,\n",
       "  0.8230474428439276,\n",
       "  0.8255583454473371,\n",
       "  0.8303158451169552,\n",
       "  0.8316373728029602,\n",
       "  0.833685740716268,\n",
       "  0.8346108100964715,\n",
       "  0.8362627197039778,\n",
       "  0.8407559138363949,\n",
       "  0.8399629972247918,\n",
       "  0.8418131359851989,\n",
       "  0.8418131359851989,\n",
       "  0.8424738998282014,\n",
       "  0.843398969208405,\n",
       "  0.843398969208405,\n",
       "  0.843398969208405,\n",
       "  0.8427382053654024,\n",
       "  0.8427382053654024,\n",
       "  0.8427382053654024],\n",
       " [0.8231664652375803,\n",
       "  0.8231664652375803,\n",
       "  0.8256472234590675,\n",
       "  0.8317537052350359,\n",
       "  0.832135360346034,\n",
       "  0.8330258889383627,\n",
       "  0.8351249920488518,\n",
       "  0.8361427390115133,\n",
       "  0.8428853126391451,\n",
       "  0.8426308758984797,\n",
       "  0.8444119330831372,\n",
       "  0.8447299790089688,\n",
       "  0.8483557025634502,\n",
       "  0.8474015647859551,\n",
       "  0.8474015647859551,\n",
       "  0.8474015647859551,\n",
       "  0.8473379556007887,\n",
       "  0.8471471280452897,\n",
       "  0.8474651739711214],\n",
       " [0.830435847208619,\n",
       "  0.830435847208619,\n",
       "  0.8318437806072478,\n",
       "  0.8368633692458374,\n",
       "  0.8368633692458374,\n",
       "  0.8362512242899118,\n",
       "  0.8383325171400587,\n",
       "  0.8381488736532811,\n",
       "  0.8390670910871695,\n",
       "  0.8392507345739472,\n",
       "  0.8427399608227228,\n",
       "  0.8415156709108716,\n",
       "  0.8415768854064642,\n",
       "  0.843413320274241,\n",
       "  0.843413320274241,\n",
       "  0.843413320274241,\n",
       "  0.8434745347698335,\n",
       "  0.8434745347698335,\n",
       "  0.8439030362389814],\n",
       " [0.8487682621187114,\n",
       "  0.8487071336878782,\n",
       "  0.8498685738737086,\n",
       "  0.8532917660003668,\n",
       "  0.8570817287120239,\n",
       "  0.8583654257595208,\n",
       "  0.860138150253683,\n",
       "  0.8614218473011798,\n",
       "  0.862522159056177,\n",
       "  0.8622776453328443,\n",
       "  0.8643560119811724,\n",
       "  0.8643560119811724,\n",
       "  0.8644171404120056,\n",
       "  0.8655785805978361,\n",
       "  0.8658230943211688,\n",
       "  0.8658230943211688,\n",
       "  0.8661287364753347,\n",
       "  0.8661287364753347,\n",
       "  0.8661287364753347]]"
      ]
     },
     "execution_count": 35,
     "metadata": {},
     "output_type": "execute_result"
    }
   ],
   "source": [
    "scores_repetition"
   ]
  },
  {
   "cell_type": "code",
   "execution_count": 36,
   "metadata": {},
   "outputs": [
    {
     "data": {
      "image/png": "[encoded data removed]",
      "text/plain": [
       "<Figure size 720x432 with 1 Axes>"
      ]
     },
     "metadata": {
      "needs_background": "light"
     },
     "output_type": "display_data"
    }
   ],
   "source": [
    "plt.figure(figsize=(10,6))\n",
    "plt.errorbar(np.arange(0.1,1.05,0.05), \n",
    "             np.mean(scores_repetition,axis=0), \n",
    "             np.std(scores_repetition,axis=0),\n",
    "             linestyle='None', marker='o')\n",
    "plt.xlabel('Threshold value', size=12)\n",
    "plt.ylabel('Accuracy', size=12)\n",
    "plt.savefig('threshold_values_10m.png', dpi=100)\n",
    "plt.show()"
   ]
  }
 ],
 "metadata": {
  "kernelspec": {
   "display_name": "Python 3",
   "language": "python",
   "name": "python3"
  },
  "language_info": {
   "codemirror_mode": {
    "name": "ipython",
    "version": 3
   },
   "file_extension": ".py",
   "mimetype": "text/x-python",
   "name": "python",
   "nbconvert_exporter": "python",
   "pygments_lexer": "ipython3",
   "version": "3.8.5"
  }
 },
 "nbformat": 4,
 "nbformat_minor": 4
}
