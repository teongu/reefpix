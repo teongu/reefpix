{
 "cells": [
  {
   "cell_type": "code",
   "execution_count": 1,
   "id": "95537c2f",
   "metadata": {},
   "outputs": [],
   "source": [
    "%load_ext autoreload\n",
    "%autoreload 2"
   ]
  },
  {
   "cell_type": "code",
   "execution_count": 2,
   "id": "c1194605",
   "metadata": {
    "scrolled": true
   },
   "outputs": [
    {
     "name": "stderr",
     "output_type": "stream",
     "text": [
      "C:\\Users\\tnguyen001\\AppData\\Roaming\\Python\\Python38\\site-packages\\pandas\\core\\computation\\expressions.py:20: UserWarning: Pandas requires version '2.7.3' or newer of 'numexpr' (version '2.7.1' currently installed).\n",
      "  from pandas.core.computation.check import NUMEXPR_INSTALLED\n"
     ]
    }
   ],
   "source": [
    "import numpy as np\n",
    "import coral_mapper_functions\n",
    "import matplotlib.pyplot as plt"
   ]
  },
  {
   "cell_type": "code",
   "execution_count": 4,
   "id": "46f9389c",
   "metadata": {},
   "outputs": [],
   "source": [
    "img_rugo_zones = np.load('../v2/data/pleiades_map_types_10m.npy')"
   ]
  },
  {
   "cell_type": "code",
   "execution_count": 27,
   "id": "0552d4db",
   "metadata": {},
   "outputs": [
    {
     "data": {
      "text/plain": [
       "array([[0.5, 0.5, 0. ],\n",
       "       [0. , 0.4, 0.6]])"
      ]
     },
     "execution_count": 27,
     "metadata": {},
     "output_type": "execute_result"
    }
   ],
   "source": [
    "segments = np.array([[0, 0, 1], [0, 0, 1], [1, 1, 1]])\n",
    "zones = np.array([[1, 1, 2], [0, 0, 2], [1, 1, 2]])\n",
    "coral_mapper_functions.create_labels_dataset(segments, zones)"
   ]
  },
  {
   "cell_type": "code",
   "execution_count": 32,
   "id": "c0b44b3f",
   "metadata": {},
   "outputs": [],
   "source": [
    "labels_segments = [0, 2]"
   ]
  },
  {
   "cell_type": "code",
   "execution_count": 33,
   "id": "9116b28f",
   "metadata": {},
   "outputs": [
    {
     "data": {
      "text/plain": [
       "array([[0., 0., 2.],\n",
       "       [0., 0., 2.],\n",
       "       [2., 2., 2.]])"
      ]
     },
     "execution_count": 33,
     "metadata": {},
     "output_type": "execute_result"
    }
   ],
   "source": [
    "coral_mapper_functions.create_map_from_segments(segments, labels_segments)"
   ]
  }
 ],
 "metadata": {
  "kernelspec": {
   "display_name": "Python 3",
   "language": "python",
   "name": "python3"
  },
  "language_info": {
   "codemirror_mode": {
    "name": "ipython",
    "version": 3
   },
   "file_extension": ".py",
   "mimetype": "text/x-python",
   "name": "python",
   "nbconvert_exporter": "python",
   "pygments_lexer": "ipython3",
   "version": "3.8.5"
  }
 },
 "nbformat": 4,
 "nbformat_minor": 5
}
